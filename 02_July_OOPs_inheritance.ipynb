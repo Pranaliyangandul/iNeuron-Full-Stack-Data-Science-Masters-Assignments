{
 "cells": [
  {
   "cell_type": "markdown",
   "id": "d03ced6e",
   "metadata": {},
   "source": [
    "# 1. Explain what inheritance is in object-oriented programming and why it is used. "
   ]
  },
  {
   "cell_type": "raw",
   "id": "1894daa3",
   "metadata": {},
   "source": [
    "Answer - Inheritance is a fundamental concept in object-oriented programming (OOP) that allows a class to inherit properties and behaviors (attributes and methods) from another class. \n",
    "The class that inherits from another class is called the derived class, subclass, or child class, and the class being inherited from is called the base class, superclass, or parent class.\n",
    "Inheritance is used to establish a hierarchical relationship between classes, where the derived class can access and reuse the attributes and methods defined in the base class. \n",
    "This enables code reuse, enhances code organization, and promotes the creation of a class hierarchy with specialized classes inheriting from more general classes."
   ]
  },
  {
   "cell_type": "markdown",
   "id": "67df2dd0",
   "metadata": {},
   "source": [
    "# 2. Discuss the concept of single inheritance and multiple inheritance, highlighting their differences and advantages. \n"
   ]
  },
  {
   "cell_type": "raw",
   "id": "19774fb1",
   "metadata": {},
   "source": [
    "Single Inheritance:\n",
    "    Single inheritance is a type of inheritance where a class can inherit properties and behaviors from only one base class. In other words, a derived class can have only one direct parent class. The derived class inherits all the attributes and methods of the base class and can extend its functionality by adding new attributes and methods or overriding existing ones.\n",
    "\n",
    "Advantages of Single Inheritance:\n",
    "\n",
    "1.Simplicity: Single inheritance leads to a simpler class hierarchy as each class has only one direct parent class. This makes the code easier to understand and maintain.\n",
    "\n",
    "2.Code Reusability: Single inheritance still allows code reuse since a class can inherit all the functionality of its parent class. This promotes a modular design and reduces code duplication.\n",
    "\n",
    "3.Avoiding Ambiguity: With single inheritance, there are no conflicts or ambiguity in the inheritance chain. A method or attribute is unambiguously inherited from a single base class.\n",
    "\n",
    "Multiple Inheritance:\n",
    "Multiple inheritance is a type of inheritance where a class can inherit properties and behaviors from more than one base class. In other words, a derived class can have multiple direct parent classes. The derived class inherits all the attributes and methods from all its base classes.\n",
    "\n",
    "Advantages of Multiple Inheritance:\n",
    "\n",
    "1.Code Reusability: Multiple inheritance allows a class to inherit functionality from multiple base classes, promoting extensive code reuse. This is particularly useful when a class needs to combine features from different sources.\n",
    "\n",
    "2.Flexible Class Design: Multiple inheritance enables more flexible class design as a class can have multiple sources of functionality. This allows developers to build complex systems by composing functionalities from different classes.\n",
    "\n",
    "3.Polymorphism: Multiple inheritance plays a vital role in polymorphism, allowing objects of different classes to be treated uniformly when they share a common base class.\n",
    "\n",
    "Differences between Single and Multiple Inheritance:\n",
    "\n",
    "1.Number of Base Classes: The most apparent difference is that single inheritance allows a class to inherit from only one base class, while multiple inheritance allows a class to inherit from multiple base classes.\n",
    "\n",
    "2.Ambiguity: In single inheritance, there is no ambiguity in the inheritance chain. In contrast, multiple inheritance may lead to ambiguity when the same method or attribute is inherited from multiple base classes. This situation is known as the \"diamond problem\" and requires resolution through method overriding or explicit method calls.\n",
    "\n",
    "3.Class Hierarchy: Single inheritance leads to a simpler class hierarchy, whereas multiple inheritance can result in a more complex class hierarchy due to the presence of multiple base classes."
   ]
  },
  {
   "cell_type": "markdown",
   "id": "88d8b9af",
   "metadata": {},
   "source": [
    "# 3. Explain the terms \"base class\" and \"derived class\" in the context of inheritance. \n"
   ]
  },
  {
   "cell_type": "raw",
   "id": "4a3f6899",
   "metadata": {},
   "source": [
    "Base Class (Superclass or Parent Class):\n",
    "A base class is the class from which other classes inherit properties and behaviors. \n",
    "It serves as the template or blueprint for creating new classes. The base class defines common attributes and methods that are shared among its derived classes.\n",
    "It is also sometimes referred to as the \"superclass\" or \"parent class.\" \n",
    "\n",
    "Derived Class (Subclass or Child Class):\n",
    "A derived class is a class that inherits properties and behaviors from the base class. \n",
    "It is also known as the \"subclass\" or \"child class.\" A derived class extends the functionality of the base class by adding new attributes and methods or by overriding existing ones. \n",
    "It can also introduce its own unique attributes and methods."
   ]
  },
  {
   "cell_type": "markdown",
   "id": "36a6d686",
   "metadata": {},
   "source": [
    "# 4. What is the significance of the \"protected\" access modifier in inheritance? How does it differ from \"private\" and \"public\" modifiers? \n"
   ]
  },
  {
   "cell_type": "raw",
   "id": "8c569457",
   "metadata": {},
   "source": [
    "Significance of Protected Access Modifier in Inheritance:\n",
    "\n",
    "    The protected access modifier is particularly significant in the context of inheritance. When a member of a class is marked as protected (using the single underscore prefix), \n",
    "it means that the member can be accessed within the class itself and any derived (sub) class.\n",
    "This allows subclasses to inherit and use the protected members from the base class, promoting code reuse and extending functionality. \n",
    "The protected members provide a level of access that is not as strict as private (which can only be accessed within the class itself) but still restricts access from outside the class hierarchy."
   ]
  },
  {
   "cell_type": "markdown",
   "id": "7103b5eb",
   "metadata": {},
   "source": [
    "# 5. What is the purpose of the \"super\" keyword in inheritance? Provide an example. \n"
   ]
  },
  {
   "cell_type": "raw",
   "id": "8d1438b0",
   "metadata": {},
   "source": [
    "The \"super\" keyword in inheritance is used to call a method from the base class (superclass) within the context of the derived class (subclass). \n",
    "It allows the derived class to invoke and extend the behavior of the base class's method while still retaining the base class's functionality. \n",
    "The \"super\" keyword is particularly useful when the derived class overrides a method from the base class and wants to use the overridden method along with additional functionality.\n",
    "\n",
    "eg-"
   ]
  },
  {
   "cell_type": "code",
   "execution_count": 38,
   "id": "7fdcce2c",
   "metadata": {},
   "outputs": [],
   "source": [
    "class Vehicle:\n",
    "    def __init__(self, make, model):\n",
    "        self.make = make\n",
    "        self.model = model\n",
    "\n",
    "    def display_info(self):\n",
    "        print(f\"Make: {self.make}, Model: {self.model}\")\n",
    "\n",
    "class Car(Vehicle):\n",
    "    def __init__(self, make, model, num_doors):\n",
    "        super().__init__(make, model)\n",
    "        self.num_doors = num_doors\n",
    "\n",
    "    def display_info(self):\n",
    "        super().display_info()\n",
    "        print(f\"Number of Doors: {self.num_doors}\")\n",
    "\n",
    "\n"
   ]
  },
  {
   "cell_type": "code",
   "execution_count": 39,
   "id": "d3cd3bd4",
   "metadata": {},
   "outputs": [
    {
     "name": "stdout",
     "output_type": "stream",
     "text": [
      "Make: Toyota, Model: Camry\n",
      "Number of Doors: 4\n"
     ]
    }
   ],
   "source": [
    "car1 = Car(\"Toyota\", \"Camry\", 4)\n",
    "\n",
    "car1.display_info()"
   ]
  },
  {
   "cell_type": "markdown",
   "id": "f14cbf45",
   "metadata": {},
   "source": [
    "# 6. Create a base class called \"Vehicle\" with attributes like \"make\", \"model\", and \"year\".\n",
    "Then, create a derived class called \"Car\" that inherits from \"Vehicle\" and adds an\n",
    "attribute called \"fuel_type\". Implement appropriate methods in both classes."
   ]
  },
  {
   "cell_type": "code",
   "execution_count": 1,
   "id": "cfa1b601",
   "metadata": {},
   "outputs": [],
   "source": [
    "class Vehicle:\n",
    "    def __init__(self, make, model, year):\n",
    "        self.make = make\n",
    "        self.model = model\n",
    "        self.year = year\n",
    "    def start(self):\n",
    "        print(f\"The {self.make} {self.model} is starting.\")\n",
    "\n",
    "    def stop(self):\n",
    "        print(f\"The {self.make} {self.model} has stopped.\")\n",
    "\n",
    "\n",
    "class Car(Vehicle):\n",
    "    def __init__(self, make, model, year, fuel_type):\n",
    "        super().__init__(make, model, year)\n",
    "        self.fuel_type = fuel_type\n",
    "    def honk(self):\n",
    "        print(f\"The {self.make} {self.model} is honking!\")\n"
   ]
  },
  {
   "cell_type": "code",
   "execution_count": 2,
   "id": "abe72865",
   "metadata": {},
   "outputs": [],
   "source": [
    "car1 = Car(\"Toyota\", \"Corolla\", 2022, \"Petrol\")"
   ]
  },
  {
   "cell_type": "code",
   "execution_count": 3,
   "id": "daa9b0cf",
   "metadata": {},
   "outputs": [
    {
     "name": "stdout",
     "output_type": "stream",
     "text": [
      "The Toyota Corolla is starting.\n"
     ]
    }
   ],
   "source": [
    "car1.start()"
   ]
  },
  {
   "cell_type": "code",
   "execution_count": 4,
   "id": "8b611b31",
   "metadata": {},
   "outputs": [
    {
     "name": "stdout",
     "output_type": "stream",
     "text": [
      "The Toyota Corolla is honking!\n"
     ]
    }
   ],
   "source": [
    "car1.honk()"
   ]
  },
  {
   "cell_type": "code",
   "execution_count": 5,
   "id": "5ff1be07",
   "metadata": {},
   "outputs": [
    {
     "name": "stdout",
     "output_type": "stream",
     "text": [
      "The Toyota Corolla has stopped.\n"
     ]
    }
   ],
   "source": [
    "car1.stop()"
   ]
  },
  {
   "cell_type": "markdown",
   "id": "d28990cb",
   "metadata": {},
   "source": [
    "# 7. Create a base class called \"Employee\" with attributes like \"name\" and \"salary.\"\n",
    "Derive two classes, \"Manager\" and \"Developer,\" from \"Employee.\" Add an additional\n",
    "attribute called \"department\" for the \"Manager\" class and \"programming_language\"\n",
    "for the \"Developer\" class."
   ]
  },
  {
   "cell_type": "code",
   "execution_count": 6,
   "id": "467305f7",
   "metadata": {},
   "outputs": [],
   "source": [
    "class Employee:\n",
    "    def __init__(self, name, salary):\n",
    "        self.name = name\n",
    "        self.salary = salary\n",
    "\n",
    "    def display_info(self):\n",
    "        print(f\"Name: {self.name}\")\n",
    "        print(f\"Salary: ${self.salary}\")\n",
    "\n",
    "class Manager(Employee):\n",
    "    def __init__(self, name, salary, department):\n",
    "        super().__init__(name, salary)\n",
    "        self.department = department\n",
    "\n",
    "    def display_info(self):\n",
    "        super().display_info()\n",
    "        print(f\"Department: {self.department}\")\n",
    "\n",
    "class Developer(Employee):\n",
    "    def __init__(self, name, salary, programming_language):\n",
    "        super().__init__(name, salary)\n",
    "        self.programming_language = programming_language\n",
    "\n",
    "    def display_info(self):\n",
    "        super().display_info()\n",
    "        print(f\"Programming Language: {self.programming_language}\")\n"
   ]
  },
  {
   "cell_type": "code",
   "execution_count": 7,
   "id": "589ae6f4",
   "metadata": {},
   "outputs": [],
   "source": [
    "manager1 = Manager(\"Alice\", 80000, \"Sales\")"
   ]
  },
  {
   "cell_type": "code",
   "execution_count": 8,
   "id": "7d1a7411",
   "metadata": {},
   "outputs": [
    {
     "name": "stdout",
     "output_type": "stream",
     "text": [
      "Name: Alice\n",
      "Salary: $80000\n",
      "Department: Sales\n"
     ]
    }
   ],
   "source": [
    "manager1.display_info()"
   ]
  },
  {
   "cell_type": "code",
   "execution_count": 9,
   "id": "c2a75a6c",
   "metadata": {},
   "outputs": [],
   "source": [
    "developer1 = Developer(\"Bob\", 65000, \"Python\")"
   ]
  },
  {
   "cell_type": "code",
   "execution_count": 10,
   "id": "851cc89c",
   "metadata": {},
   "outputs": [
    {
     "name": "stdout",
     "output_type": "stream",
     "text": [
      "Name: Bob\n",
      "Salary: $65000\n",
      "Programming Language: Python\n"
     ]
    }
   ],
   "source": [
    "developer1.display_info()"
   ]
  },
  {
   "cell_type": "markdown",
   "id": "e52b798d",
   "metadata": {},
   "source": [
    "# 8. Design a base class called \"Shape\" with attributes like \"colour\" and \"border_width.\"\n",
    "Create derived classes, \"Rectangle\" and \"Circle,\" that inherit from \"Shape\" and add\n",
    "specific attributes like \"length\" and \"width\" for the \"Rectangle\" class and \"radius\" for\n",
    "the \"Circle\" class."
   ]
  },
  {
   "cell_type": "code",
   "execution_count": 11,
   "id": "cb0ac6ed",
   "metadata": {},
   "outputs": [],
   "source": [
    "class Shape:\n",
    "    def __init__(self, colour, border_width):\n",
    "        self.colour = colour\n",
    "        self.border_width = border_width\n",
    "\n",
    "    def display_info(self):\n",
    "        print(f\"Colour: {self.colour}\")\n",
    "        print(f\"Border Width: {self.border_width}\")\n",
    "\n",
    "class Rectangle(Shape):\n",
    "    def __init__(self, colour, border_width, length, width):\n",
    "        super().__init__(colour, border_width)\n",
    "        self.length = length\n",
    "        self.width = width\n",
    "\n",
    "    def display_info(self):\n",
    "        super().display_info()\n",
    "        print(f\"Length: {self.length}\")\n",
    "        print(f\"Width: {self.width}\")\n",
    "\n",
    "class Circle(Shape):\n",
    "    def __init__(self, colour, border_width, radius):\n",
    "        super().__init__(colour, border_width)\n",
    "        self.radius = radius\n",
    "\n",
    "    def display_info(self):\n",
    "        super().display_info()\n",
    "        print(f\"Radius: {self.radius}\")\n"
   ]
  },
  {
   "cell_type": "code",
   "execution_count": 12,
   "id": "13c61309",
   "metadata": {},
   "outputs": [],
   "source": [
    "rectangle1 = Rectangle(\"Red\", 2, 10, 5)"
   ]
  },
  {
   "cell_type": "code",
   "execution_count": 13,
   "id": "830d92d9",
   "metadata": {},
   "outputs": [
    {
     "name": "stdout",
     "output_type": "stream",
     "text": [
      "Colour: Red\n",
      "Border Width: 2\n",
      "Length: 10\n",
      "Width: 5\n"
     ]
    }
   ],
   "source": [
    "rectangle1.display_info()"
   ]
  },
  {
   "cell_type": "code",
   "execution_count": 14,
   "id": "e404510a",
   "metadata": {},
   "outputs": [],
   "source": [
    "circle1 = Circle(\"Blue\", 1, 7)"
   ]
  },
  {
   "cell_type": "code",
   "execution_count": 15,
   "id": "ba1190b7",
   "metadata": {},
   "outputs": [
    {
     "name": "stdout",
     "output_type": "stream",
     "text": [
      "Colour: Blue\n",
      "Border Width: 1\n",
      "Radius: 7\n"
     ]
    }
   ],
   "source": [
    "circle1.display_info()"
   ]
  },
  {
   "cell_type": "markdown",
   "id": "869e78de",
   "metadata": {},
   "source": [
    "# 9. Create a base class called \"Device\" with attributes like \"brand\" and \"model.\" Derive\n",
    "two classes, \"Phone\" and \"Tablet,\" from \"Device.\" Add specific attributes like\n",
    "\"screen_size\" for the \"Phone\" class and \"battery_capacity\" for the \"Tablet\" class."
   ]
  },
  {
   "cell_type": "code",
   "execution_count": 16,
   "id": "cd6e3e0f",
   "metadata": {},
   "outputs": [],
   "source": [
    "class Device:\n",
    "    def __init__(self, brand, model):\n",
    "        self.brand = brand\n",
    "        self.model = model\n",
    "\n",
    "    def display_info(self):\n",
    "        print(f\"Brand: {self.brand}\")\n",
    "        print(f\"Model: {self.model}\")\n",
    "\n",
    "class Phone(Device):\n",
    "    def __init__(self, brand, model, screen_size):\n",
    "        super().__init__(brand, model)\n",
    "        self.screen_size = screen_size\n",
    "\n",
    "    def display_info(self):\n",
    "        super().display_info()\n",
    "        print(f\"Screen Size: {self.screen_size}\")\n",
    "\n",
    "class Tablet(Device):\n",
    "    def __init__(self, brand, model, battery_capacity):\n",
    "        super().__init__(brand, model)\n",
    "        self.battery_capacity = battery_capacity\n",
    "\n",
    "    def display_info(self):\n",
    "        super().display_info()\n",
    "        print(f\"Battery Capacity: {self.battery_capacity}\")\n",
    "\n"
   ]
  },
  {
   "cell_type": "code",
   "execution_count": 17,
   "id": "b13cc5dd",
   "metadata": {},
   "outputs": [],
   "source": [
    "phone1 = Phone(\"Samsung\", \"Galaxy S21\", \"6.2 inches\")"
   ]
  },
  {
   "cell_type": "code",
   "execution_count": 18,
   "id": "3f621e18",
   "metadata": {},
   "outputs": [
    {
     "name": "stdout",
     "output_type": "stream",
     "text": [
      "Brand: Samsung\n",
      "Model: Galaxy S21\n",
      "Screen Size: 6.2 inches\n"
     ]
    }
   ],
   "source": [
    "phone1.display_info()"
   ]
  },
  {
   "cell_type": "code",
   "execution_count": 19,
   "id": "ef28890f",
   "metadata": {},
   "outputs": [],
   "source": [
    "tablet1 = Tablet(\"Apple\", \"iPad Air\", \"8000 mAh\")"
   ]
  },
  {
   "cell_type": "code",
   "execution_count": 20,
   "id": "a1c1d658",
   "metadata": {},
   "outputs": [
    {
     "name": "stdout",
     "output_type": "stream",
     "text": [
      "Brand: Apple\n",
      "Model: iPad Air\n",
      "Battery Capacity: 8000 mAh\n"
     ]
    }
   ],
   "source": [
    "tablet1.display_info()"
   ]
  },
  {
   "cell_type": "markdown",
   "id": "200d475b",
   "metadata": {},
   "source": [
    "# 10. Create a base class called \"BankAccount\" with attributes like \"account_number\" and\n",
    "\"balance.\" Derive two classes, \"SavingsAccount\" and \"CheckingAccount,\" from\n",
    "\"BankAccount.\" Add specific methods like \"calculate_interest\" for the\n",
    "\"SavingsAccount\" class and \"deduct_fees\" for the \"CheckingAccount\" class."
   ]
  },
  {
   "cell_type": "code",
   "execution_count": 28,
   "id": "c129dc3c",
   "metadata": {},
   "outputs": [],
   "source": [
    "class BankAccount:\n",
    "    def __init__(self, account_number, balance):\n",
    "        self.account_number = account_number\n",
    "        self.balance = balance\n",
    "\n",
    "    def display_info(self):\n",
    "        print(f\"Account Number: {self.account_number}\")\n",
    "        print(f\"Balance: ${self.balance:.2f}\")\n",
    "\n",
    "class SavingsAccount(BankAccount):\n",
    "    def __init__(self, account_number, balance):\n",
    "        super().__init__(account_number, balance)\n",
    "\n",
    "    def calculate_interest(self, rate):\n",
    "        interest = self.balance * rate / 100\n",
    "        self.balance += interest\n",
    "\n",
    "class CheckingAccount(BankAccount):\n",
    "    def __init__(self, account_number, balance):\n",
    "        super().__init__(account_number, balance)\n",
    "\n",
    "    def deduct_fees(self, fee):\n",
    "        self.balance -= fee\n"
   ]
  },
  {
   "cell_type": "code",
   "execution_count": 29,
   "id": "00cabf6f",
   "metadata": {},
   "outputs": [],
   "source": [
    "savings_account1 = SavingsAccount(\"123456789\", 1000)"
   ]
  },
  {
   "cell_type": "code",
   "execution_count": 30,
   "id": "5de52e85",
   "metadata": {},
   "outputs": [
    {
     "name": "stdout",
     "output_type": "stream",
     "text": [
      "Account Number: 123456789\n",
      "Balance: $1000.00\n"
     ]
    }
   ],
   "source": [
    "savings_account1.display_info()"
   ]
  },
  {
   "cell_type": "code",
   "execution_count": 31,
   "id": "992659f9",
   "metadata": {},
   "outputs": [],
   "source": [
    "savings_account1.calculate_interest(2)"
   ]
  },
  {
   "cell_type": "code",
   "execution_count": 32,
   "id": "24d91eac",
   "metadata": {},
   "outputs": [
    {
     "name": "stdout",
     "output_type": "stream",
     "text": [
      "Account Number: 123456789\n",
      "Balance: $1020.00\n"
     ]
    }
   ],
   "source": [
    "savings_account1.display_info()"
   ]
  },
  {
   "cell_type": "code",
   "execution_count": 33,
   "id": "3ec529fe",
   "metadata": {},
   "outputs": [],
   "source": [
    "checking_account1 = CheckingAccount(\"987654321\", 500)"
   ]
  },
  {
   "cell_type": "code",
   "execution_count": 34,
   "id": "cddeca70",
   "metadata": {},
   "outputs": [
    {
     "name": "stdout",
     "output_type": "stream",
     "text": [
      "Account Number: 987654321\n",
      "Balance: $500.00\n"
     ]
    }
   ],
   "source": [
    "checking_account1.display_info()"
   ]
  },
  {
   "cell_type": "code",
   "execution_count": 35,
   "id": "1af74b29",
   "metadata": {},
   "outputs": [],
   "source": [
    "checking_account1.deduct_fees(10)"
   ]
  },
  {
   "cell_type": "code",
   "execution_count": 36,
   "id": "12db5b74",
   "metadata": {},
   "outputs": [
    {
     "name": "stdout",
     "output_type": "stream",
     "text": [
      "Account Number: 987654321\n",
      "Balance: $490.00\n"
     ]
    }
   ],
   "source": [
    "checking_account1.display_info()"
   ]
  }
 ],
 "metadata": {
  "kernelspec": {
   "display_name": "Python 3 (ipykernel)",
   "language": "python",
   "name": "python3"
  },
  "language_info": {
   "codemirror_mode": {
    "name": "ipython",
    "version": 3
   },
   "file_extension": ".py",
   "mimetype": "text/x-python",
   "name": "python",
   "nbconvert_exporter": "python",
   "pygments_lexer": "ipython3",
   "version": "3.10.9"
  }
 },
 "nbformat": 4,
 "nbformat_minor": 5
}
