{
 "cells": [
  {
   "cell_type": "markdown",
   "id": "77df8c6a",
   "metadata": {},
   "source": [
    "# 1. In the below elements which of them are values or an expression? eg:- values can be integer or string and expressions will be mathematical operators.\n",
    "* \n",
    "'hello'\n",
    "-87.8\n",
    "- \n",
    "/ \n",
    "6 \n"
   ]
  },
  {
   "cell_type": "raw",
   "id": "03649e28",
   "metadata": {},
   "source": [
    "Answer - \n",
    "\n",
    "Values and Expressions:\n",
    "\n",
    "Values are data elements like numbers or strings that can be used in expressions or assigned to variables.\n",
    "Expressions are combinations of values and operators that can be evaluated to produce a value.\n",
    "\n",
    "Values:\n",
    "\n",
    "'hello': This is a string value.\n",
    "-87.8: This is a floating-point (decimal) value.\n",
    "6: This is an integer value.\n",
    "\n",
    "Expressions:\n",
    "\n",
    "*: This is the multiplication operator.\n",
    "-: This is the subtraction operator.\n",
    "/: This is the division operator."
   ]
  },
  {
   "cell_type": "markdown",
   "id": "dcb18752",
   "metadata": {},
   "source": [
    "# 2. What is the difference between string and variable?"
   ]
  },
  {
   "cell_type": "raw",
   "id": "599b9dca",
   "metadata": {},
   "source": [
    "Answer -\n",
    "\n",
    "String: A string is a data type used to represent textual information. It is enclosed within single or double quotes. For example, 'hello' is a string.\n",
    "\n",
    "Variable: A variable is a named reference to a value. It can hold different types of data, including strings. For instance, name = 'John' assigns the string 'John' to the variable name."
   ]
  },
  {
   "cell_type": "markdown",
   "id": "4de5620d",
   "metadata": {},
   "source": [
    "# 3. Describe three different data types."
   ]
  },
  {
   "cell_type": "raw",
   "id": "2aa360ec",
   "metadata": {},
   "source": [
    "Answer - \n",
    "Integer: An integer is a whole number without any decimal or fractional part. Examples include -5, 0, and 42.\n",
    "\n",
    "Float: A float (floating-point number) represents real numbers with decimal parts. Examples include -3.14, 0.5, and 2.718.\n",
    "\n",
    "String: A string is a sequence of characters. It is used to represent text or any data that is a combination of characters. Examples include 'Hello, World!', 'Python', and '123'."
   ]
  },
  {
   "cell_type": "markdown",
   "id": "9db74b63",
   "metadata": {},
   "source": [
    "# 4. What is an expression made up of? What do all expressions do?"
   ]
  },
  {
   "cell_type": "raw",
   "id": "40e8ab1f",
   "metadata": {},
   "source": [
    "Answer - \n",
    "An expression is made up of operators and operands. Operators perform operations on operands, and expressions yield a value. All expressions evaluate to a value.\n",
    "\n",
    "An expression is composed of values, variables, and operators. It represents a computation that can be evaluated to produce a result.\n",
    "\n",
    "Expressions perform various operations such as arithmetic calculations, string concatenation, comparison, etc.\n",
    "\n",
    "For example, 2 + 3 is an expression that represents the addition of 2 and 3."
   ]
  },
  {
   "cell_type": "markdown",
   "id": "633c2dd4",
   "metadata": {},
   "source": [
    "# 5. This assignment statements, like spam = 10. What is the difference between an expression and a statement?\n"
   ]
  },
  {
   "cell_type": "raw",
   "id": "7831d601",
   "metadata": {},
   "source": [
    "Answer - spam = 10 is the assignment statement . \n",
    "\n",
    "Expression - \n",
    "An expression is a piece of code that can be evaluated to produce a value. It doesn't necessarily perform an action but computes a result.\n",
    "\n",
    "Statement - \n",
    "A statement is a complete line of code that performs an action. It can include expressions. Statements can also include assignments, loops, conditionals, etc."
   ]
  },
  {
   "cell_type": "markdown",
   "id": "3f0eba6f",
   "metadata": {},
   "source": [
    "# 6. After running the following code, what does the variable bacon contain?\n",
    "bacon = 22\n",
    "bacon + 1\n"
   ]
  },
  {
   "cell_type": "code",
   "execution_count": 1,
   "id": "6ed7e990",
   "metadata": {},
   "outputs": [
    {
     "data": {
      "text/plain": [
       "23"
      ]
     },
     "execution_count": 1,
     "metadata": {},
     "output_type": "execute_result"
    }
   ],
   "source": [
    "bacon = 22\n",
    "bacon + 1"
   ]
  },
  {
   "cell_type": "code",
   "execution_count": 2,
   "id": "35e24e8e",
   "metadata": {},
   "outputs": [
    {
     "data": {
      "text/plain": [
       "22"
      ]
     },
     "execution_count": 2,
     "metadata": {},
     "output_type": "execute_result"
    }
   ],
   "source": [
    "bacon"
   ]
  },
  {
   "cell_type": "raw",
   "id": "31fd8e3a",
   "metadata": {},
   "source": [
    "Answer -\n",
    "\n",
    "The variable bacon will still contain the value 22. The expression bacon + 1 is evaluated to 23,\n",
    "but the result isn't stored back into the bacon variable. To update the value of bacon, \n",
    "you'd need to assign the result of the expression back to the variable: bacon = bacon + 1."
   ]
  },
  {
   "cell_type": "markdown",
   "id": "8a1bd392",
   "metadata": {},
   "source": [
    "# 7. What should the values of the following two terms be?\n",
    "'spam' + 'spamspam'\n",
    "'spam' * 3\n"
   ]
  },
  {
   "cell_type": "code",
   "execution_count": 3,
   "id": "9de53f68",
   "metadata": {},
   "outputs": [
    {
     "data": {
      "text/plain": [
       "'spamspamspam'"
      ]
     },
     "execution_count": 3,
     "metadata": {},
     "output_type": "execute_result"
    }
   ],
   "source": [
    "'spam' + 'spamspam'"
   ]
  },
  {
   "cell_type": "raw",
   "id": "27d27d56",
   "metadata": {},
   "source": [
    "String concatenation - This concatenates the strings to result in 'spamspamspam'"
   ]
  },
  {
   "cell_type": "code",
   "execution_count": 4,
   "id": "243ef01d",
   "metadata": {},
   "outputs": [
    {
     "data": {
      "text/plain": [
       "'spamspamspam'"
      ]
     },
     "execution_count": 4,
     "metadata": {},
     "output_type": "execute_result"
    }
   ],
   "source": [
    "'spam' * 3"
   ]
  },
  {
   "cell_type": "raw",
   "id": "919c8596",
   "metadata": {},
   "source": [
    "String Replication / Multiplication  - This replicates the string three times to result in 'spamspamspam'"
   ]
  },
  {
   "cell_type": "markdown",
   "id": "fd04df65",
   "metadata": {},
   "source": [
    "# 8. Why is eggs a valid variable name while 100 is invalid?"
   ]
  },
  {
   "cell_type": "raw",
   "id": "3363295f",
   "metadata": {},
   "source": [
    "Answer - \n",
    "eggs is a valid variable name because it starts with a letter and follows the rules for naming variables.\n",
    "\n",
    "100 is invalid as a variable name because it starts with a digit. Variable names cannot start with digits."
   ]
  },
  {
   "cell_type": "markdown",
   "id": "2064d900",
   "metadata": {},
   "source": [
    "# 9. What three functions can be used to get the integer, floating-point number, or string version of a value?"
   ]
  },
  {
   "cell_type": "raw",
   "id": "e78d576d",
   "metadata": {},
   "source": [
    "Answer - \n",
    "int(): Converts a value to an integer. Example: int(\"42\") returns the integer 42.\n",
    "\n",
    "float(): Converts a value to a floating-point number. Example: float(\"3.14\") returns the float 3.14.\n",
    "\n",
    "str(): Converts a value to a string. Example: str(123) returns the string \"123\""
   ]
  },
  {
   "cell_type": "markdown",
   "id": "a9068c0b",
   "metadata": {},
   "source": [
    "# 10. Why does this expression cause an error? How can you fix it?\n",
    "'I have eaten ' + 99 + ' burritos.'\n"
   ]
  },
  {
   "cell_type": "code",
   "execution_count": 5,
   "id": "9e89cbf8",
   "metadata": {},
   "outputs": [
    {
     "ename": "TypeError",
     "evalue": "can only concatenate str (not \"int\") to str",
     "output_type": "error",
     "traceback": [
      "\u001b[1;31m---------------------------------------------------------------------------\u001b[0m",
      "\u001b[1;31mTypeError\u001b[0m                                 Traceback (most recent call last)",
      "Cell \u001b[1;32mIn[5], line 1\u001b[0m\n\u001b[1;32m----> 1\u001b[0m \u001b[38;5;124;43m'\u001b[39;49m\u001b[38;5;124;43mI have eaten \u001b[39;49m\u001b[38;5;124;43m'\u001b[39;49m\u001b[43m \u001b[49m\u001b[38;5;241;43m+\u001b[39;49m\u001b[43m \u001b[49m\u001b[38;5;241;43m99\u001b[39;49m \u001b[38;5;241m+\u001b[39m \u001b[38;5;124m'\u001b[39m\u001b[38;5;124m burritos.\u001b[39m\u001b[38;5;124m'\u001b[39m\n",
      "\u001b[1;31mTypeError\u001b[0m: can only concatenate str (not \"int\") to str"
     ]
    }
   ],
   "source": [
    "'I have eaten ' + 99 + ' burritos.'"
   ]
  },
  {
   "cell_type": "raw",
   "id": "344eac1b",
   "metadata": {},
   "source": [
    "\n",
    "Answer - \n",
    "\n",
    "The expression causes an error because you're trying to concatenate a string with an integer directly. \n",
    "To fix it, you need to convert the integer to a string before concatenation:\n",
    "\n"
   ]
  },
  {
   "cell_type": "code",
   "execution_count": 6,
   "id": "d17e59f5",
   "metadata": {},
   "outputs": [
    {
     "data": {
      "text/plain": [
       "'I have eaten 99 burritos.'"
      ]
     },
     "execution_count": 6,
     "metadata": {},
     "output_type": "execute_result"
    }
   ],
   "source": [
    "'I have eaten ' + str(99) + ' burritos.'"
   ]
  },
  {
   "cell_type": "raw",
   "id": "de548ec8",
   "metadata": {},
   "source": [
    "Now the integer 99 is converted to a string using the str() function, allowing concatenation with the other strings."
   ]
  }
 ],
 "metadata": {
  "kernelspec": {
   "display_name": "Python 3 (ipykernel)",
   "language": "python",
   "name": "python3"
  },
  "language_info": {
   "codemirror_mode": {
    "name": "ipython",
    "version": 3
   },
   "file_extension": ".py",
   "mimetype": "text/x-python",
   "name": "python",
   "nbconvert_exporter": "python",
   "pygments_lexer": "ipython3",
   "version": "3.10.9"
  }
 },
 "nbformat": 4,
 "nbformat_minor": 5
}
