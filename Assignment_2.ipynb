{
 "cells": [
  {
   "cell_type": "markdown",
   "id": "26c3ac82",
   "metadata": {},
   "source": [
    "# 1.What are the two values of the Boolean data type? How do you write them?"
   ]
  },
  {
   "cell_type": "markdown",
   "id": "eb83a148",
   "metadata": {},
   "source": [
    "Answer : The Boolean data type has two values: True and False. These values represent the truth values in logic. You can write them as shown: True and False."
   ]
  },
  {
   "cell_type": "code",
   "execution_count": 2,
   "id": "e366965c",
   "metadata": {},
   "outputs": [],
   "source": [
    "is_true = True\n",
    "is_false = False"
   ]
  },
  {
   "cell_type": "markdown",
   "id": "4393c130",
   "metadata": {},
   "source": [
    "# 2. What are the three different types of Boolean operators?"
   ]
  },
  {
   "cell_type": "markdown",
   "id": "89fea451",
   "metadata": {},
   "source": [
    "Answer : There are three primary Boolean operators: and, or, and not. These operators are used to combine and manipulate Boolean values."
   ]
  },
  {
   "cell_type": "markdown",
   "id": "19f2c1b2",
   "metadata": {},
   "source": [
    "AND (and) Operator: This operator returns True if both the operands are True, otherwise, it returns False."
   ]
  },
  {
   "cell_type": "code",
   "execution_count": 5,
   "id": "92d9662b",
   "metadata": {},
   "outputs": [
    {
     "data": {
      "text/plain": [
       "False"
      ]
     },
     "execution_count": 5,
     "metadata": {},
     "output_type": "execute_result"
    }
   ],
   "source": [
    "result = True and False  # This will be False\n",
    "result"
   ]
  },
  {
   "cell_type": "markdown",
   "id": "a3fad749",
   "metadata": {},
   "source": [
    "OR (or) Operator: This operator returns True if at least one of the operands is True, otherwise, it returns False.\n"
   ]
  },
  {
   "cell_type": "code",
   "execution_count": 6,
   "id": "edec5d74",
   "metadata": {},
   "outputs": [
    {
     "data": {
      "text/plain": [
       "True"
      ]
     },
     "execution_count": 6,
     "metadata": {},
     "output_type": "execute_result"
    }
   ],
   "source": [
    "result = True or False  # This will be True\n",
    "result"
   ]
  },
  {
   "cell_type": "markdown",
   "id": "4f43df08",
   "metadata": {},
   "source": [
    "NOT (not) Operator: This operator returns True if the operand is False and False if the operand is True.\n"
   ]
  },
  {
   "cell_type": "code",
   "execution_count": 7,
   "id": "6018fed3",
   "metadata": {},
   "outputs": [
    {
     "data": {
      "text/plain": [
       "False"
      ]
     },
     "execution_count": 7,
     "metadata": {},
     "output_type": "execute_result"
    }
   ],
   "source": [
    "result = not True  # This will be False\n",
    "result"
   ]
  },
  {
   "cell_type": "markdown",
   "id": "6695d6ea",
   "metadata": {},
   "source": [
    "# 3. Make a list of each Boolean operator&#39;s truth tables (i.e. every possible combination of Boolean values for the operator and what it evaluate )."
   ]
  },
  {
   "cell_type": "markdown",
   "id": "5ff38780",
   "metadata": {},
   "source": [
    "and Truth Table:\n",
    "This table shows the result of the and operation for all possible combinations of Boolean values.\n",
    " A      B      A and B \n",
    "\n",
    " False  False   False   \n",
    " False  True    False   \n",
    " True   False   False   \n",
    " True   True    True    \n"
   ]
  },
  {
   "cell_type": "markdown",
   "id": "b322ef8b",
   "metadata": {},
   "source": [
    "or Truth Table:\n",
    "This table shows the result of the or operation for all possible combinations of Boolean values.\n",
    "\n",
    "  A      B      A or B  \n",
    "\n",
    " False  False  False   \n",
    " False  True   True    \n",
    " True   False  True    \n",
    " True   True   True    \n"
   ]
  },
  {
   "cell_type": "markdown",
   "id": "594857ab",
   "metadata": {},
   "source": [
    "not Truth Table:\n",
    "This table shows the result of the not operation for each Boolean value.\n",
    " \n",
    " A      not A \n",
    "\n",
    " False  True  \n",
    " True   False \n"
   ]
  },
  {
   "cell_type": "markdown",
   "id": "5442ea75",
   "metadata": {},
   "source": [
    "# 4. What are the values of the following expressions?"
   ]
  },
  {
   "cell_type": "code",
   "execution_count": 8,
   "id": "18bb0cf9",
   "metadata": {},
   "outputs": [
    {
     "data": {
      "text/plain": [
       "False"
      ]
     },
     "execution_count": 8,
     "metadata": {},
     "output_type": "execute_result"
    }
   ],
   "source": [
    "(5 > 4) and (3 == 5)"
   ]
  },
  {
   "cell_type": "code",
   "execution_count": 9,
   "id": "ebd9b77c",
   "metadata": {},
   "outputs": [
    {
     "data": {
      "text/plain": [
       "False"
      ]
     },
     "execution_count": 9,
     "metadata": {},
     "output_type": "execute_result"
    }
   ],
   "source": [
    "not (5 > 4)"
   ]
  },
  {
   "cell_type": "code",
   "execution_count": 10,
   "id": "fe99799f",
   "metadata": {},
   "outputs": [
    {
     "data": {
      "text/plain": [
       "True"
      ]
     },
     "execution_count": 10,
     "metadata": {},
     "output_type": "execute_result"
    }
   ],
   "source": [
    "(5 > 4) or (3 == 5)"
   ]
  },
  {
   "cell_type": "code",
   "execution_count": 11,
   "id": "c4733221",
   "metadata": {},
   "outputs": [
    {
     "data": {
      "text/plain": [
       "False"
      ]
     },
     "execution_count": 11,
     "metadata": {},
     "output_type": "execute_result"
    }
   ],
   "source": [
    "not ((5 > 4) or (3 == 5))"
   ]
  },
  {
   "cell_type": "code",
   "execution_count": 12,
   "id": "068a3302",
   "metadata": {},
   "outputs": [
    {
     "data": {
      "text/plain": [
       "False"
      ]
     },
     "execution_count": 12,
     "metadata": {},
     "output_type": "execute_result"
    }
   ],
   "source": [
    "(True and True) and (True == False)"
   ]
  },
  {
   "cell_type": "code",
   "execution_count": 13,
   "id": "70d8c1ca",
   "metadata": {},
   "outputs": [
    {
     "data": {
      "text/plain": [
       "True"
      ]
     },
     "execution_count": 13,
     "metadata": {},
     "output_type": "execute_result"
    }
   ],
   "source": [
    "(not False) or (not True)"
   ]
  },
  {
   "cell_type": "markdown",
   "id": "cd7ba1b4",
   "metadata": {},
   "source": [
    "# 5. What are the six comparison operators?"
   ]
  },
  {
   "cell_type": "markdown",
   "id": "f0911be9",
   "metadata": {},
   "source": [
    "Answer : Comparison operators are used to compare values. "
   ]
  },
  {
   "cell_type": "markdown",
   "id": "5ed40ee0",
   "metadata": {},
   "source": [
    "The six comparison operators are:\n",
    "\n",
    "== (equal to)\n",
    "!= (not equal to)\n",
    "< (less than)\n",
    "> (greater than)\n",
    "<= (less than or equal to)\n",
    ">= (greater than or equal to)"
   ]
  },
  {
   "cell_type": "raw",
   "id": "86936cf8",
   "metadata": {},
   "source": [
    "# 1. == (Equal To Operator): The == operator checks if two values are equal."
   ]
  },
  {
   "cell_type": "code",
   "execution_count": 15,
   "id": "57a705e5",
   "metadata": {},
   "outputs": [
    {
     "name": "stdout",
     "output_type": "stream",
     "text": [
      "True\n"
     ]
    }
   ],
   "source": [
    "x = 5\n",
    "y = 5\n",
    "result = x == y  # This will be True because x is equal to y\n",
    "print(result)  # Output: True\n"
   ]
  },
  {
   "cell_type": "raw",
   "id": "d2c12c3f",
   "metadata": {},
   "source": [
    "2. != (Not Equal To Operator):\n",
    "The != operator checks if two values are not equal."
   ]
  },
  {
   "cell_type": "code",
   "execution_count": 16,
   "id": "06d5793e",
   "metadata": {},
   "outputs": [
    {
     "name": "stdout",
     "output_type": "stream",
     "text": [
      "True\n"
     ]
    }
   ],
   "source": [
    "x = 5\n",
    "y = 10\n",
    "result = x != y  # This will be True because x is not equal to y\n",
    "print(result)  # Output: True\n"
   ]
  },
  {
   "cell_type": "raw",
   "id": "b6780dae",
   "metadata": {},
   "source": [
    "3. < (Less Than Operator):\n",
    "The < operator checks if the value on the left is less than the value on the right."
   ]
  },
  {
   "cell_type": "code",
   "execution_count": 17,
   "id": "b370bfb1",
   "metadata": {},
   "outputs": [
    {
     "name": "stdout",
     "output_type": "stream",
     "text": [
      "True\n"
     ]
    }
   ],
   "source": [
    "x = 5\n",
    "y = 10\n",
    "result = x < y  # This will be True because 5 is less than 10\n",
    "print(result)  # Output: True\n"
   ]
  },
  {
   "cell_type": "raw",
   "id": "0784081c",
   "metadata": {},
   "source": [
    "4. > (Greater Than Operator):\n",
    "The > operator checks if the value on the left is greater than the value on the right."
   ]
  },
  {
   "cell_type": "code",
   "execution_count": 18,
   "id": "cc377a26",
   "metadata": {},
   "outputs": [
    {
     "name": "stdout",
     "output_type": "stream",
     "text": [
      "True\n"
     ]
    }
   ],
   "source": [
    "x = 5\n",
    "y = 3\n",
    "result = x > y  # This will be True because 5 is greater than 3\n",
    "print(result)  # Output: True\n"
   ]
  },
  {
   "cell_type": "raw",
   "id": "579701ac",
   "metadata": {},
   "source": [
    "5. <= (Less Than or Equal To Operator):\n",
    "The <= operator checks if the value on the left is less than or equal to the value on the right."
   ]
  },
  {
   "cell_type": "code",
   "execution_count": 19,
   "id": "3f2aa90a",
   "metadata": {},
   "outputs": [
    {
     "name": "stdout",
     "output_type": "stream",
     "text": [
      "True\n"
     ]
    }
   ],
   "source": [
    "x = 5\n",
    "y = 5\n",
    "result = x <= y  # This will be True because 5 is equal to 5\n",
    "print(result)  # Output: True\n"
   ]
  },
  {
   "cell_type": "raw",
   "id": "a0e70c8e",
   "metadata": {},
   "source": [
    "6. >= (Greater Than or Equal To Operator):\n",
    "The >= operator checks if the value on the left is greater than or equal to the value on the right."
   ]
  },
  {
   "cell_type": "code",
   "execution_count": 20,
   "id": "322e83bd",
   "metadata": {},
   "outputs": [
    {
     "name": "stdout",
     "output_type": "stream",
     "text": [
      "True\n"
     ]
    }
   ],
   "source": [
    "x = 5\n",
    "y = 3\n",
    "result = x >= y  # This will be True because 5 is greater than 3\n",
    "print(result)  # Output: True\n"
   ]
  },
  {
   "cell_type": "markdown",
   "id": "608f482a",
   "metadata": {},
   "source": [
    "# 6. How do you tell the difference between the equal to and assignment operators?Describe a condition and when you would use one."
   ]
  },
  {
   "cell_type": "raw",
   "id": "4d0a354e",
   "metadata": {},
   "source": [
    "== (Equal To Operator): It is used to compare two values.\n",
    "= (Assignment Operator): It is used to assign a value to a variable."
   ]
  },
  {
   "cell_type": "code",
   "execution_count": 21,
   "id": "eec8d25f",
   "metadata": {},
   "outputs": [
    {
     "name": "stdout",
     "output_type": "stream",
     "text": [
      "x is 10\n"
     ]
    }
   ],
   "source": [
    "x = 10  # Assignment\n",
    "if x == 10:  # Comparison\n",
    "    print(\"x is 10\")\n"
   ]
  },
  {
   "cell_type": "markdown",
   "id": "8e374b54",
   "metadata": {},
   "source": [
    "# 7. Identify the three blocks in this code:"
   ]
  },
  {
   "cell_type": "raw",
   "id": "09fa09d2",
   "metadata": {},
   "source": [
    "The three blocks in the given code are identified by indentation:\n"
   ]
  },
  {
   "cell_type": "code",
   "execution_count": 22,
   "id": "4d9d41f5",
   "metadata": {},
   "outputs": [
    {
     "name": "stdout",
     "output_type": "stream",
     "text": [
      "ham\n",
      "spam\n",
      "spam\n"
     ]
    }
   ],
   "source": [
    "spam = 0\n",
    "if spam == 10:  # Block 1\n",
    "    print('eggs')\n",
    "if spam > 5:     # Block 2\n",
    "    print('bacon')\n",
    "else:            # Block 3\n",
    "    print('ham')\n",
    "print('spam')\n",
    "print('spam')"
   ]
  },
  {
   "cell_type": "markdown",
   "id": "3fa73db2",
   "metadata": {},
   "source": [
    "# 8. Write code that prints Hello if 1 is stored in spam, prints Howdy if 2 is stored in spam, and prints Greetings! if anything else is stored in spam."
   ]
  },
  {
   "cell_type": "code",
   "execution_count": 25,
   "id": "c37e6d31",
   "metadata": {},
   "outputs": [
    {
     "name": "stdout",
     "output_type": "stream",
     "text": [
      "Enter a number: 2\n",
      "Howdy\n"
     ]
    }
   ],
   "source": [
    "spam = int(input(\"Enter a number: \"))\n",
    "\n",
    "if spam == 1:\n",
    "    print(\"Hello\")\n",
    "elif spam == 2:\n",
    "    print(\"Howdy\")\n",
    "else:\n",
    "    print(\"Greetings!\")\n"
   ]
  },
  {
   "cell_type": "markdown",
   "id": "fcb0ec28",
   "metadata": {},
   "source": [
    "# 9.If your programme is stuck in an endless loop, what keys you’ll press?"
   ]
  },
  {
   "cell_type": "raw",
   "id": "4085079a",
   "metadata": {},
   "source": [
    "We can press Ctrl + C to stop an endless loop in most programming environments.\n",
    "\n"
   ]
  },
  {
   "cell_type": "markdown",
   "id": "0f665d0b",
   "metadata": {},
   "source": [
    "# 10. How can you tell the difference between break and continue?"
   ]
  },
  {
   "cell_type": "raw",
   "id": "fc0a73a7",
   "metadata": {},
   "source": [
    "break: It is used to exit the loop and move the control outside of the loop.\n",
    "\n",
    "continue: It is used to skip the rest of the loop code and move the control to the next iteration of the loop."
   ]
  },
  {
   "cell_type": "markdown",
   "id": "81d89c71",
   "metadata": {},
   "source": [
    "# 11. In a for loop, what is the difference between range(10), range(0, 10), and range(0, 10, 1)?"
   ]
  },
  {
   "cell_type": "raw",
   "id": "3e5e6f20",
   "metadata": {},
   "source": [
    "range(10): Generates numbers from 0 to 9.\n",
    "range(0, 10): Also generates numbers from 0 to 9.\n",
    "range(0, 10, 1): Generates numbers from 0 to 9 with a step of 1 (same as the previous two)."
   ]
  },
  {
   "cell_type": "markdown",
   "id": "c42c2a15",
   "metadata": {},
   "source": [
    "# 12. Write a short program that prints the numbers 1 to 10 using a for loop. Then write an equivalent program that prints the numbers 1 to 10 using a while loop."
   ]
  },
  {
   "cell_type": "code",
   "execution_count": 26,
   "id": "6e132bb8",
   "metadata": {},
   "outputs": [
    {
     "name": "stdout",
     "output_type": "stream",
     "text": [
      "1\n",
      "2\n",
      "3\n",
      "4\n",
      "5\n",
      "6\n",
      "7\n",
      "8\n",
      "9\n",
      "10\n"
     ]
    }
   ],
   "source": [
    "# For Loop:\n",
    "\n",
    "for i in range(1, 11):\n",
    "    print(i)\n"
   ]
  },
  {
   "cell_type": "code",
   "execution_count": 27,
   "id": "e54501ca",
   "metadata": {},
   "outputs": [
    {
     "name": "stdout",
     "output_type": "stream",
     "text": [
      "1\n",
      "2\n",
      "3\n",
      "4\n",
      "5\n",
      "6\n",
      "7\n",
      "8\n",
      "9\n",
      "10\n"
     ]
    }
   ],
   "source": [
    "# While Loop:\n",
    "\n",
    "i = 1\n",
    "while i <= 10:\n",
    "    print(i)\n",
    "    i += 1\n"
   ]
  },
  {
   "cell_type": "markdown",
   "id": "6017ece0",
   "metadata": {},
   "source": [
    "# 13. If you had a function named bacon() inside a module named spam, how would you call it after importing spam?"
   ]
  },
  {
   "cell_type": "raw",
   "id": "1210d8b1",
   "metadata": {},
   "source": [
    "If we have a function named bacon() inside a module named spam, we can call it after importing spam like this:\n"
   ]
  },
  {
   "cell_type": "raw",
   "id": "68d1f76c",
   "metadata": {},
   "source": [
    "import spam\n",
    "spam.bacon()\n"
   ]
  }
 ],
 "metadata": {
  "kernelspec": {
   "display_name": "Python 3 (ipykernel)",
   "language": "python",
   "name": "python3"
  },
  "language_info": {
   "codemirror_mode": {
    "name": "ipython",
    "version": 3
   },
   "file_extension": ".py",
   "mimetype": "text/x-python",
   "name": "python",
   "nbconvert_exporter": "python",
   "pygments_lexer": "ipython3",
   "version": "3.10.9"
  }
 },
 "nbformat": 4,
 "nbformat_minor": 5
}
