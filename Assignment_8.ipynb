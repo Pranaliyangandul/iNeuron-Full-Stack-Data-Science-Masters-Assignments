{
 "cells": [
  {
   "cell_type": "markdown",
   "metadata": {},
   "source": [
    "1.In Python, what is the difference between a built-in function and a user-defined function? Provide an example of each.\n",
    "\n"
   ]
  },
  {
   "cell_type": "markdown",
   "metadata": {},
   "source": [
    "Built-in function: Built-in functions are functions that are predefined in Python and are readily available for use without requiring any additional implementation. Examples include print(), len(), max(), etc.\n",
    "\n",
    "User-defined function: User-defined functions are functions that are created by the user to perform a specific task. These functions are defined using the def keyword followed by a function name, parameters, and a block of code. Here's an example:"
   ]
  },
  {
   "cell_type": "code",
   "execution_count": 8,
   "metadata": {},
   "outputs": [
    {
     "name": "stdout",
     "output_type": "stream",
     "text": [
      "Hello, Alice!\n"
     ]
    }
   ],
   "source": [
    "def greet(name):\n",
    "    print(f\"Hello, {name}!\")\n",
    "\n",
    "greet(\"Alice\")  # Output: Hello, Alice!\n"
   ]
  },
  {
   "cell_type": "markdown",
   "metadata": {},
   "source": [
    "2.How can you pass arguments to a function in Python? Explain the difference between positional arguments and keyword arguments."
   ]
  },
  {
   "cell_type": "code",
   "execution_count": null,
   "metadata": {},
   "outputs": [],
   "source": [
    "Arguments can be passed to a function in Python either as positional arguments or keyword arguments.\n",
    "\n",
    "Positional arguments: These are arguments passed to a function in the order they are defined. The function assigns values to parameters based on their positions. Example: function_name(arg1, arg2).\n",
    "\n",
    "Keyword arguments: These are arguments passed with the parameter names explicitly specified. This allows for more clarity and flexibility in function calls. Example: function_name(param1=value1, param2=value2)."
   ]
  },
  {
   "cell_type": "markdown",
   "metadata": {},
   "source": [
    "3.What is the purpose of the return statement in a function? Can a function have multiple return statements? Explain with an example.\n"
   ]
  },
  {
   "cell_type": "code",
   "execution_count": null,
   "metadata": {},
   "outputs": [],
   "source": [
    "The return statement in a function is used to exit the function and optionally return a value back to the caller.\n",
    "\n",
    "Yes, a function can have multiple return statements. However, once a return statement is encountered, the function immediately exits and returns the specified value.\n",
    "\n",
    "Example:"
   ]
  },
  {
   "cell_type": "code",
   "execution_count": 9,
   "metadata": {},
   "outputs": [
    {
     "name": "stdout",
     "output_type": "stream",
     "text": [
      "5\n"
     ]
    }
   ],
   "source": [
    "def absolute_value(num):\n",
    "    if num >= 0:\n",
    "        return num\n",
    "    else:\n",
    "        return -num\n",
    "\n",
    "result = absolute_value(-5)\n",
    "print(result)  # Output: 5\n"
   ]
  },
  {
   "cell_type": "markdown",
   "metadata": {},
   "source": [
    "4.What are lambda functions in Python? How are they different from regular functions? Provide an example where a lambda function can be useful."
   ]
  },
  {
   "cell_type": "code",
   "execution_count": null,
   "metadata": {},
   "outputs": [],
   "source": [
    "Lambda functions, also known as anonymous functions, are small, inline functions defined using the lambda keyword.\n",
    "\n",
    "They are different from regular functions in that they can only contain a single expression, and they return the result of that expression.\n",
    "\n",
    "Example:"
   ]
  },
  {
   "cell_type": "code",
   "execution_count": 10,
   "metadata": {},
   "outputs": [
    {
     "name": "stdout",
     "output_type": "stream",
     "text": [
      "5\n"
     ]
    }
   ],
   "source": [
    "add = lambda x, y: x + y\n",
    "print(add(2, 3))  # Output: 5\n"
   ]
  },
  {
   "cell_type": "markdown",
   "metadata": {},
   "source": [
    "5.How does the concept of \"scope\" apply to functions in Python? Explain the difference between local scope and global scope.\n",
    "\n"
   ]
  },
  {
   "cell_type": "markdown",
   "metadata": {},
   "source": [
    "Scope refers to the visibility and accessibility of variables in different parts of a program.\n",
    "\n",
    "Local scope: Variables defined within a function have local scope, meaning they are only accessible within that function.\n",
    "\n",
    "Global scope: Variables defined outside of any function have global scope, meaning they can be accessed from anywhere in the program"
   ]
  },
  {
   "cell_type": "markdown",
   "metadata": {},
   "source": [
    "6.How can you use the \"return\" statement in a Python function to return multiple values?"
   ]
  },
  {
   "cell_type": "markdown",
   "metadata": {},
   "source": [
    "You can return multiple values from a function by separating them with commas in the return statement. This effectively returns a tuple containing the values.\n",
    "\n"
   ]
  },
  {
   "cell_type": "code",
   "execution_count": 11,
   "metadata": {},
   "outputs": [
    {
     "name": "stdout",
     "output_type": "stream",
     "text": [
      "(8, 2, 15)\n"
     ]
    }
   ],
   "source": [
    "def calculate(x, y):\n",
    "    return x + y, x - y, x * y\n",
    "\n",
    "result = calculate(5, 3)\n",
    "print(result)  # Output: (8, 2, 15)\n"
   ]
  },
  {
   "cell_type": "markdown",
   "metadata": {},
   "source": [
    "7.What is the difference between the \"pass by value\" and \"pass by reference\" concepts when it comes to function arguments in Python?\n",
    "\n"
   ]
  },
  {
   "cell_type": "code",
   "execution_count": null,
   "metadata": {},
   "outputs": [],
   "source": [
    "In Python, arguments are passed by object reference, not by value or reference as in some other languages.\n",
    "\n",
    "This means that when you pass an object to a function, you are passing a reference to the object, not a copy of the object itself."
   ]
  },
  {
   "cell_type": "markdown",
   "metadata": {},
   "source": [
    "8.Create a function that can intake an integer or decimal value and perform various mathematical operations.\n",
    "\n"
   ]
  },
  {
   "cell_type": "code",
   "execution_count": 6,
   "metadata": {},
   "outputs": [
    {
     "name": "stdout",
     "output_type": "stream",
     "text": [
      "{'log': 1.0986122886681098, 'exp': 20.085536923187668, 'power_of_2': 8, 'sqrt': 1.7320508075688772}\n"
     ]
    }
   ],
   "source": [
    "import math\n",
    "\n",
    "def math_operations(x):\n",
    "    result = {\n",
    "        'log': math.log(x),\n",
    "        'exp': math.exp(x),\n",
    "        'power_of_2': 2 ** x,\n",
    "        'sqrt': math.sqrt(x)\n",
    "    }\n",
    "    return result\n",
    "\n",
    "print(math_operations(3))  # Example usage\n"
   ]
  },
  {
   "cell_type": "markdown",
   "metadata": {},
   "source": [
    "9.Create a function that takes a full name as an argument and returns the first name and last name.\n"
   ]
  },
  {
   "cell_type": "code",
   "execution_count": 7,
   "metadata": {},
   "outputs": [
    {
     "name": "stdout",
     "output_type": "stream",
     "text": [
      "First Name: John, Last Name: Doe\n"
     ]
    }
   ],
   "source": [
    "def extract_names(full_name):\n",
    "    names = full_name.split()\n",
    "    first_name = names[0]\n",
    "    last_name = names[-1]\n",
    "    return first_name, last_name\n",
    "\n",
    "first, last = extract_names(\"John Doe\")\n",
    "print(f\"First Name: {first}, Last Name: {last}\")  # Output: First Name: John, Last Name: Doe\n"
   ]
  }
 ],
 "metadata": {
  "kernelspec": {
   "display_name": "Python 3",
   "language": "python",
   "name": "python3"
  },
  "language_info": {
   "codemirror_mode": {
    "name": "ipython",
    "version": 3
   },
   "file_extension": ".py",
   "mimetype": "text/x-python",
   "name": "python",
   "nbconvert_exporter": "python",
   "pygments_lexer": "ipython3",
   "version": "3.11.5"
  }
 },
 "nbformat": 4,
 "nbformat_minor": 2
}
