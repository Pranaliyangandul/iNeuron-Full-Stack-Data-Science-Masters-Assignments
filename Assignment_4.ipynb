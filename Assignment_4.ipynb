{
 "cells": [
  {
   "cell_type": "markdown",
   "id": "dcf78998",
   "metadata": {},
   "source": [
    "# 1. What exactly is []?"
   ]
  },
  {
   "cell_type": "raw",
   "id": "6e5a5caa",
   "metadata": {},
   "source": [
    "[] represents an empty list in Python. It is a data structure that can hold multiple values of different data types. Lists are ordered, mutable (can be changed), and can contain elements of different data types."
   ]
  },
  {
   "cell_type": "code",
   "execution_count": 1,
   "id": "dc40c836",
   "metadata": {},
   "outputs": [
    {
     "data": {
      "text/plain": [
       "[]"
      ]
     },
     "execution_count": 1,
     "metadata": {},
     "output_type": "execute_result"
    }
   ],
   "source": [
    "l=[]\n",
    "l"
   ]
  },
  {
   "cell_type": "markdown",
   "id": "8db3ec48",
   "metadata": {},
   "source": [
    "# 2. In a list of values stored in a variable called spam, how would you assign the value &#39;hello&#39; as the third value? (Assume [2, 4, 6, 8, 10] are in spam.)\n"
   ]
  },
  {
   "cell_type": "code",
   "execution_count": 15,
   "id": "d3c364cb",
   "metadata": {},
   "outputs": [
    {
     "name": "stdout",
     "output_type": "stream",
     "text": [
      "[2, 4, 'hello', 8, 10]\n"
     ]
    }
   ],
   "source": [
    "spam = [2, 4, 6, 8, 10]\n",
    "spam[2] = 'hello'\n",
    "print(spam)  # Output: [2, 4, 'hello', 8, 10]\n"
   ]
  },
  {
   "cell_type": "code",
   "execution_count": 16,
   "id": "db222c88",
   "metadata": {},
   "outputs": [],
   "source": [
    "spam=['a','b','c','d']"
   ]
  },
  {
   "cell_type": "markdown",
   "id": "259c4e94",
   "metadata": {},
   "source": [
    "# 3. What is the value of spam[int(int(&#39;3&#39; * 2) / 11)]?"
   ]
  },
  {
   "cell_type": "raw",
   "id": "bf582f34",
   "metadata": {},
   "source": [
    "'3' * 2 creates the string '33', then int('33') converts it to the integer 33. 33 / 11 is 3. So, spam[3] would access the fourth element in the list, which is 'd'."
   ]
  },
  {
   "cell_type": "code",
   "execution_count": 17,
   "id": "58bed8b8",
   "metadata": {},
   "outputs": [
    {
     "data": {
      "text/plain": [
       "'d'"
      ]
     },
     "execution_count": 17,
     "metadata": {},
     "output_type": "execute_result"
    }
   ],
   "source": [
    "spam[int(int('3' * 2) / 11)]"
   ]
  },
  {
   "cell_type": "markdown",
   "id": "5e13dafe",
   "metadata": {},
   "source": [
    "# 4. What is the value of spam[-1]?"
   ]
  },
  {
   "cell_type": "raw",
   "id": "913ba605",
   "metadata": {},
   "source": [
    "spam[-1] accesses the last element of the list, which is 'd'."
   ]
  },
  {
   "cell_type": "code",
   "execution_count": 18,
   "id": "fb14f7e2",
   "metadata": {},
   "outputs": [
    {
     "data": {
      "text/plain": [
       "'d'"
      ]
     },
     "execution_count": 18,
     "metadata": {},
     "output_type": "execute_result"
    }
   ],
   "source": [
    "spam[-1]"
   ]
  },
  {
   "cell_type": "markdown",
   "id": "022ff831",
   "metadata": {},
   "source": [
    "# 5. What is the value of spam[:2]?"
   ]
  },
  {
   "cell_type": "raw",
   "id": "ff4da19d",
   "metadata": {},
   "source": [
    "spam[:2] returns a sublist containing elements from index 0 up to (but not including) index 2. So, it returns [2, 4]."
   ]
  },
  {
   "cell_type": "code",
   "execution_count": 19,
   "id": "bbb4fe1b",
   "metadata": {},
   "outputs": [
    {
     "data": {
      "text/plain": [
       "['a', 'b']"
      ]
     },
     "execution_count": 19,
     "metadata": {},
     "output_type": "execute_result"
    }
   ],
   "source": [
    "spam[:2]"
   ]
  },
  {
   "cell_type": "code",
   "execution_count": 20,
   "id": "db7cebd2",
   "metadata": {},
   "outputs": [],
   "source": [
    "bacon=[3.14,'cat',11,'cat',True]"
   ]
  },
  {
   "cell_type": "markdown",
   "id": "443899fe",
   "metadata": {},
   "source": [
    "# 6. What is the value of bacon.index(&#39;cat&#39;)?"
   ]
  },
  {
   "cell_type": "raw",
   "id": "9bb0fda3",
   "metadata": {},
   "source": [
    "bacon.index('cat') returns the index of the first occurrence of 'cat' in the list bacon. In this case, it returns 1."
   ]
  },
  {
   "cell_type": "code",
   "execution_count": 21,
   "id": "2192f7b6",
   "metadata": {},
   "outputs": [
    {
     "data": {
      "text/plain": [
       "1"
      ]
     },
     "execution_count": 21,
     "metadata": {},
     "output_type": "execute_result"
    }
   ],
   "source": [
    "bacon.index('cat')"
   ]
  },
  {
   "cell_type": "markdown",
   "id": "d0895c58",
   "metadata": {},
   "source": [
    "# 7. How does bacon.append(99) change the look of the list value in bacon?"
   ]
  },
  {
   "cell_type": "raw",
   "id": "171bad2a",
   "metadata": {},
   "source": [
    "bacon.append(99) adds the value 99 to the end of the list bacon. After this operation, bacon becomes [3.14, 'cat', 11, 'cat', True, 99]."
   ]
  },
  {
   "cell_type": "code",
   "execution_count": 22,
   "id": "5ba4415e",
   "metadata": {},
   "outputs": [],
   "source": [
    "bacon.append(99)"
   ]
  },
  {
   "cell_type": "markdown",
   "id": "97f14526",
   "metadata": {},
   "source": [
    "# 8. How does bacon.remove(&#39;cat&#39;) change the look of the list in bacon?"
   ]
  },
  {
   "cell_type": "raw",
   "id": "17eff888",
   "metadata": {},
   "source": [
    "bacon.remove('cat') removes the first occurrence of 'cat' from the list bacon. After this operation, bacon becomes [3.14, 11, 'cat', True, 99]."
   ]
  },
  {
   "cell_type": "code",
   "execution_count": 23,
   "id": "3e165944",
   "metadata": {},
   "outputs": [],
   "source": [
    "bacon.remove('cat')"
   ]
  },
  {
   "cell_type": "markdown",
   "id": "b2ac6aa6",
   "metadata": {},
   "source": [
    "# 9. What are the list concatenation and list replication operators?"
   ]
  },
  {
   "cell_type": "raw",
   "id": "81cdc893",
   "metadata": {},
   "source": [
    "Concatenation: Lists can be concatenated using the + operator.\n"
   ]
  },
  {
   "cell_type": "code",
   "execution_count": 24,
   "id": "8d4946e2",
   "metadata": {},
   "outputs": [],
   "source": [
    "list1 = [1, 2, 3]\n",
    "list2 = [4, 5, 6]\n",
    "result = list1 + list2  # Output: [1, 2, 3, 4, 5, 6]\n"
   ]
  },
  {
   "cell_type": "raw",
   "id": "11df1a62",
   "metadata": {},
   "source": [
    "Replication: Lists can be replicated using the * operator.\n"
   ]
  },
  {
   "cell_type": "code",
   "execution_count": 25,
   "id": "095c180a",
   "metadata": {},
   "outputs": [],
   "source": [
    "original_list = [1, 2, 3]\n",
    "replicated_list = original_list * 3  # Output: [1, 2, 3, 1, 2, 3, 1, 2, 3]\n"
   ]
  },
  {
   "cell_type": "markdown",
   "id": "1fb0e626",
   "metadata": {},
   "source": [
    "# 10. What is difference between the list methods append() and insert()?"
   ]
  },
  {
   "cell_type": "raw",
   "id": "2218b671",
   "metadata": {},
   "source": [
    "append(): Adds an item at the end of the list.\n"
   ]
  },
  {
   "cell_type": "code",
   "execution_count": 26,
   "id": "15ebe330",
   "metadata": {},
   "outputs": [],
   "source": [
    "my_list = [1, 2, 3]\n",
    "my_list.append(4)  # Output: [1, 2, 3, 4]\n"
   ]
  },
  {
   "cell_type": "raw",
   "id": "1f9ed105",
   "metadata": {},
   "source": [
    "insert(): Inserts an item at a specific index in the list.\n"
   ]
  },
  {
   "cell_type": "code",
   "execution_count": 27,
   "id": "88a75c58",
   "metadata": {},
   "outputs": [],
   "source": [
    "my_list = [1, 2, 3]\n",
    "my_list.insert(1, 5)  # Output: [1, 5, 2, 3]\n"
   ]
  },
  {
   "cell_type": "markdown",
   "id": "1bd2af5f",
   "metadata": {},
   "source": [
    "# 11. What are the two methods for removing items from a list?"
   ]
  },
  {
   "cell_type": "raw",
   "id": "f9eb23ac",
   "metadata": {},
   "source": [
    "remove(): Removes the first occurrence of a specified value.\n"
   ]
  },
  {
   "cell_type": "code",
   "execution_count": 28,
   "id": "6d57b742",
   "metadata": {},
   "outputs": [],
   "source": [
    "my_list = [1, 2, 3, 2]\n",
    "my_list.remove(2)  # Output: [1, 3, 2]\n"
   ]
  },
  {
   "cell_type": "raw",
   "id": "860354b2",
   "metadata": {},
   "source": [
    "pop(): Removes and returns the item at the specified index (or the last item if index is not provided).\n"
   ]
  },
  {
   "cell_type": "raw",
   "id": "40547033",
   "metadata": {},
   "source": [
    "my_list = [1, 2, 3]\n",
    "removed_item = my_list.pop(1)  # Output: removed_item = 2, my_list = [1, 3]\n"
   ]
  },
  {
   "cell_type": "markdown",
   "id": "bfba065c",
   "metadata": {},
   "source": [
    "# 12. Describe how list values and string values are identical."
   ]
  },
  {
   "cell_type": "raw",
   "id": "07e3ec09",
   "metadata": {},
   "source": [
    "Both list values and string values can be indexed and sliced, allowing you to access specific elements or sub-elements. Additionally, both support the use of the len() function to determine their length.\n",
    "\n"
   ]
  },
  {
   "cell_type": "markdown",
   "id": "448aecdd",
   "metadata": {},
   "source": [
    "# 13. What&#39;s the difference between tuples and lists?"
   ]
  },
  {
   "cell_type": "raw",
   "id": "87e33b4a",
   "metadata": {},
   "source": [
    "Lists: Lists are mutable, meaning their elements can be changed after creation. Lists are defined using square brackets ([]).\n",
    "Tuples: Tuples are immutable, meaning their elements cannot be changed after creation. Tuples are defined using parentheses (())."
   ]
  },
  {
   "cell_type": "code",
   "execution_count": 30,
   "id": "0de6f12a",
   "metadata": {},
   "outputs": [
    {
     "data": {
      "text/plain": [
       "(1, 2, 3)"
      ]
     },
     "execution_count": 30,
     "metadata": {},
     "output_type": "execute_result"
    }
   ],
   "source": [
    "# Example of a tuple:\n",
    "\n",
    "my_tuple = (1, 2, 3)\n",
    "my_tuple"
   ]
  },
  {
   "cell_type": "code",
   "execution_count": 31,
   "id": "80e05741",
   "metadata": {},
   "outputs": [
    {
     "data": {
      "text/plain": [
       "[1, 2, 3]"
      ]
     },
     "execution_count": 31,
     "metadata": {},
     "output_type": "execute_result"
    }
   ],
   "source": [
    "# Example of a list:\n",
    "\n",
    "my_list = [1, 2, 3]\n",
    "my_list"
   ]
  },
  {
   "cell_type": "markdown",
   "id": "736e1bbd",
   "metadata": {},
   "source": [
    "# 14. How do you type a tuple value that only contains the integer 42?"
   ]
  },
  {
   "cell_type": "code",
   "execution_count": 32,
   "id": "8b331987",
   "metadata": {},
   "outputs": [
    {
     "data": {
      "text/plain": [
       "(42,)"
      ]
     },
     "execution_count": 32,
     "metadata": {},
     "output_type": "execute_result"
    }
   ],
   "source": [
    "my_tuple = (42,)\n",
    "my_tuple"
   ]
  },
  {
   "cell_type": "raw",
   "id": "a4f85733",
   "metadata": {},
   "source": [
    "The comma after the integer. This indicates that it's a tuple with a single element."
   ]
  },
  {
   "cell_type": "markdown",
   "id": "c642e793",
   "metadata": {},
   "source": [
    "# 15. How do you get a list value&#39;s tuple form? How do you get a tuple value&#39;s list form?"
   ]
  },
  {
   "cell_type": "code",
   "execution_count": 33,
   "id": "ad3cb72f",
   "metadata": {},
   "outputs": [],
   "source": [
    "# List to Tuple:\n",
    "my_list = [1, 2, 3]\n",
    "my_tuple = tuple(my_list)  # Output: (1, 2, 3)\n"
   ]
  },
  {
   "cell_type": "code",
   "execution_count": 34,
   "id": "662fa5de",
   "metadata": {},
   "outputs": [],
   "source": [
    "# Tuple to List:\n",
    "my_tuple = (1, 2, 3)\n",
    "my_list = list(my_tuple)  # Output: [1, 2, 3]\n"
   ]
  },
  {
   "cell_type": "markdown",
   "id": "16540798",
   "metadata": {},
   "source": [
    "# 16. Variables that &quot;contain&quot; list values are not necessarily lists themselves. Instead, what do they contain?"
   ]
  },
  {
   "cell_type": "raw",
   "id": "07726c12",
   "metadata": {},
   "source": [
    "Variables that \"contain\" list values are actually storing references to the lists, not the lists themselves. This means that if you modify the list through one variable, the change is reflected in all variables that reference the same list.\n",
    "\n"
   ]
  },
  {
   "cell_type": "markdown",
   "id": "1ece60b1",
   "metadata": {},
   "source": [
    "# 17. How do you distinguish between copy.copy() and copy.deepcopy()?"
   ]
  },
  {
   "cell_type": "raw",
   "id": "2d92f1fa",
   "metadata": {},
   "source": [
    "copy.copy(): Creates a shallow copy of a list. It copies the top-level structure but not nested structures.\n"
   ]
  },
  {
   "cell_type": "code",
   "execution_count": 35,
   "id": "f9ab3e1d",
   "metadata": {},
   "outputs": [],
   "source": [
    "import copy\n",
    "original_list = [1, [2, 3]]\n",
    "shallow_copy = copy.copy(original_list)\n"
   ]
  },
  {
   "cell_type": "raw",
   "id": "40fee952",
   "metadata": {},
   "source": [
    "copy.deepcopy(): Creates a deep copy of a list. It copies both the top-level structure and all nested structures.\n"
   ]
  },
  {
   "cell_type": "code",
   "execution_count": 36,
   "id": "c50258d8",
   "metadata": {},
   "outputs": [],
   "source": [
    "import copy\n",
    "original_list = [1, [2, 3]]\n",
    "deep_copy = copy.deepcopy(original_list)\n"
   ]
  }
 ],
 "metadata": {
  "kernelspec": {
   "display_name": "Python 3 (ipykernel)",
   "language": "python",
   "name": "python3"
  },
  "language_info": {
   "codemirror_mode": {
    "name": "ipython",
    "version": 3
   },
   "file_extension": ".py",
   "mimetype": "text/x-python",
   "name": "python",
   "nbconvert_exporter": "python",
   "pygments_lexer": "ipython3",
   "version": "3.10.9"
  }
 },
 "nbformat": 4,
 "nbformat_minor": 5
}
