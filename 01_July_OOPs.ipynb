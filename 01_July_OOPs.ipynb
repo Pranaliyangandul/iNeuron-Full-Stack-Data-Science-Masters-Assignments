{
 "cells": [
  {
   "cell_type": "markdown",
   "id": "1f249649",
   "metadata": {},
   "source": [
    "# 1. What is the primary goal of Object-Oriented Programming (OOP)? "
   ]
  },
  {
   "cell_type": "raw",
   "id": "3c26546a",
   "metadata": {},
   "source": [
    "Answer - Primary Goals of Object-Oriented Programming (OOP) are - \n",
    "\n",
    "1. Robustness:\n",
    "        \n",
    "Robustness refers to the ability of a software system to handle unexpected situations, errors, and exceptions gracefully         without crashing or causing major disruptions. \n",
    "In OOP, robustness is achieved through careful design and encapsulation of objects.\n",
    "Encapsulation: OOP encapsulates data and behavior within objects, providing clear interfaces for interacting with them.         This prevents external code from directly accessing or modifying the internal state of objects, reducing the risk of             \n",
    "        unintended side effects and potential bugs.\n",
    "2. Adaptability\n",
    "\n",
    "As you already know, technologies, frameworks that are used by developers changes day by day. Popular applications such as web browsers, search engines, cloud apps try to integrate these new technologies for their app in order to increase their users’ usability. To do that, their application should be adaptive to changes. They should easily improve their product quality and features.\n",
    "\n",
    "3. Reusability\n",
    "\n",
    "DRY. That Stands for “Don’t, Repeat, Yourself“. As the words tell us, it is important to use a component in solving another part of the system. If you write a code module or a class and cannot use it for solving the same problem, it would probably decrease your productivity. A developer should consider the reuse of the code before actually writing it."
   ]
  },
  {
   "cell_type": "markdown",
   "id": "852dd987",
   "metadata": {},
   "source": [
    "# 2. What is an object in Python? "
   ]
  },
  {
   "cell_type": "raw",
   "id": "60dfa5e7",
   "metadata": {},
   "source": [
    "Answer - An object is an instance of a class, which defines its state and behavior. \n",
    "It contains attributes (variables that hold data) and methods (functions that operate on the data).\n",
    "eg\n",
    "class Animal:\n",
    "    pass\n",
    "\n",
    "obj=Animal()\n",
    "\n",
    "Here , we have created class Animal and obj is its instance"
   ]
  },
  {
   "cell_type": "markdown",
   "id": "9a2ff6c5",
   "metadata": {},
   "source": [
    "# 3. What is a class in Python? "
   ]
  },
  {
   "cell_type": "raw",
   "id": "423a86ac",
   "metadata": {},
   "source": [
    "Answer - A class is a collection of objects. \n",
    "A class contains the blueprints or the prototype from which the objects are being created. \n",
    "It is a logical entity that contains some attributes and methods. \n",
    "\n",
    "class Animal:\n",
    "    pass\n",
    "\n",
    "obj=Animal()\n",
    "\n",
    "Here , we have created class Animal and obj is its instance"
   ]
  },
  {
   "cell_type": "markdown",
   "id": "01f3053c",
   "metadata": {},
   "source": [
    "# 4. What are attributes and methods in a class? "
   ]
  },
  {
   "cell_type": "raw",
   "id": "cf0d8234",
   "metadata": {},
   "source": [
    "Answer - Attributes are variables that hold data related to an object. They represent the object's state. \n",
    "Methods, on the other hand, are functions defined within a class that perform operations on the object's attributes. \n",
    "They represent the object's behavior."
   ]
  },
  {
   "cell_type": "markdown",
   "id": "1a4e255a",
   "metadata": {},
   "source": [
    "# 5. What is the difference between class variables and instance variables in Python? "
   ]
  },
  {
   "cell_type": "raw",
   "id": "23ccf9e4",
   "metadata": {},
   "source": [
    "Answer - Class variables are shared among all instances of a class. \n",
    "They are defined within the class but outside any method, and their value is the same for all objects of that class. \n",
    "Instance variables, on the other hand, are unique to each instance of the class. \n",
    "They are defined within the methods and are specific to individual objects."
   ]
  },
  {
   "cell_type": "markdown",
   "id": "637dd056",
   "metadata": {},
   "source": [
    "# 6. What is the purpose of the self parameter in Python class methods? \n"
   ]
  },
  {
   "cell_type": "raw",
   "id": "ff054829",
   "metadata": {},
   "source": [
    "Answer - In Python class methods, the self parameter refers to the instance of the class (the object) that the method is being called on. \n",
    "It allows the method to access and manipulate the object's attributes and call other methods within the same class.\n"
   ]
  },
  {
   "cell_type": "markdown",
   "id": "e7287aaf",
   "metadata": {},
   "source": [
    "# 7. For a library management system, you have to design the \"Book\" class with OOP principles in mind. The “Book” class will have following attributes: \n",
    "a. title: Represents the title of the book. \n",
    "b. author: Represents the author(s) of the book. \n",
    "c. isbn: Represents the ISBN (International Standard Book Number) of the book. d. publication_year: Represents the year of publication of the book. e. available_copies: Represents the number of copies available for checkout. The class will also include the following methods: \n",
    "a. check_out(self): Decrements the available copies by one if there are copies available for checkout. \n",
    "b. return_book(self): Increments the available copies by one when a book is returned. \n",
    "c. display_book_info(self): Displays the information about the book, including its attributes and the number of available copies.\n"
   ]
  },
  {
   "cell_type": "code",
   "execution_count": 12,
   "id": "eb887bbd",
   "metadata": {},
   "outputs": [],
   "source": [
    "#Answer -\n",
    "class Book:\n",
    "    def __init__(self, title, author, isbn, publication_year, available_copies):\n",
    "        self.title = title\n",
    "        self.author = author\n",
    "        self.isbn = isbn\n",
    "        self.publication_year = publication_year\n",
    "        self.available_copies = available_copies\n",
    "    def check_out(self):\n",
    "        if self.available_copies > 0:\n",
    "            self.available_copies-=1\n",
    "    def return_book(self):\n",
    "        self.available_copies+=1\n",
    "    def display_book_info(self):\n",
    "        print(f\"Title: {self.title}\")\n",
    "        print(f\"Author(s): {self.author}\")\n",
    "        print(f\"ISBN: {self.isbn}\")\n",
    "        print(f\"Publication Year: {self.publication_year}\")\n",
    "        print(f\"Available Copies: {self.available_copies}\")"
   ]
  },
  {
   "cell_type": "code",
   "execution_count": 13,
   "id": "f6edb6c2",
   "metadata": {},
   "outputs": [],
   "source": [
    "obj=Book(\"abc\",\"xyz\",123,2023,5)"
   ]
  },
  {
   "cell_type": "code",
   "execution_count": 14,
   "id": "26f54396",
   "metadata": {},
   "outputs": [],
   "source": [
    "obj.check_out()"
   ]
  },
  {
   "cell_type": "code",
   "execution_count": 15,
   "id": "b2f711f4",
   "metadata": {},
   "outputs": [
    {
     "data": {
      "text/plain": [
       "4"
      ]
     },
     "execution_count": 15,
     "metadata": {},
     "output_type": "execute_result"
    }
   ],
   "source": [
    "obj.available_copies"
   ]
  },
  {
   "cell_type": "code",
   "execution_count": 16,
   "id": "88876566",
   "metadata": {},
   "outputs": [],
   "source": [
    "obj.return_book()"
   ]
  },
  {
   "cell_type": "code",
   "execution_count": 17,
   "id": "c9bef66e",
   "metadata": {},
   "outputs": [
    {
     "data": {
      "text/plain": [
       "5"
      ]
     },
     "execution_count": 17,
     "metadata": {},
     "output_type": "execute_result"
    }
   ],
   "source": [
    "obj.available_copies"
   ]
  },
  {
   "cell_type": "code",
   "execution_count": 18,
   "id": "a604c7e1",
   "metadata": {},
   "outputs": [
    {
     "name": "stdout",
     "output_type": "stream",
     "text": [
      "Title: abc\n",
      "Author(s): xyz\n",
      "ISBN: 123\n",
      "Publication Year: 2023\n",
      "Available Copies: 5\n"
     ]
    }
   ],
   "source": [
    "obj.display_book_info()"
   ]
  },
  {
   "cell_type": "markdown",
   "id": "46f87a68",
   "metadata": {},
   "source": [
    "# 8. For a ticket booking system, you have to design the \"Ticket\" class with OOP principles in mind. The “Ticket” class should have the following attributes: a. ticket_id: Represents the unique identifier for the ticket. \n",
    "b. event_name: Represents the name of the event. \n",
    "c. event_date: Represents the date of the event. \n",
    "d. venue: Represents the venue of the event. \n",
    "e. seat_number: Represents the seat number associated with the ticket. f. price: Represents the price of the ticket. \n",
    "g. is_reserved: Represents the reservation status of the ticket. \n",
    "The class also includes the following methods: \n",
    "a. reserve_ticket(self): Marks the ticket as reserved if it is not already reserved. b. cancel_reservation(self): Cancels the reservation of the ticket if it is already reserved. \n",
    "c. display_ticket_info(self): Displays the information about the ticket, including its attributes and reservation status. \n"
   ]
  },
  {
   "cell_type": "code",
   "execution_count": 19,
   "id": "340a5d0d",
   "metadata": {},
   "outputs": [],
   "source": [
    "class Ticket:\n",
    "    def __init__(self, ticket_id, event_name, event_date, venue, seat_number, price, is_reserved=False):\n",
    "        self.ticket_id = ticket_id\n",
    "        self.event_name = event_name\n",
    "        self.event_date = event_date\n",
    "        self.venue = venue\n",
    "        self.seat_number = seat_number\n",
    "        self.price = price\n",
    "        self.is_reserved = is_reserved\n",
    "    \n",
    "    def reserve_ticket(self):\n",
    "        if not self.is_reserved:\n",
    "            self.is_reserved = True\n",
    "\n",
    "    def cancel_reservation(self):\n",
    "        if self.is_reserved:\n",
    "            self.is_reserved = False\n",
    "\n",
    "    def display_ticket_info(self):\n",
    "        print(f\"Ticket ID: {self.ticket_id}\")\n",
    "        print(f\"Event Name: {self.event_name}\")\n",
    "        print(f\"Event Date: {self.event_date}\")\n",
    "        print(f\"Venue: {self.venue}\")\n",
    "        print(f\"Seat Number: {self.seat_number}\")\n",
    "        print(f\"Price: {self.price}\")\n",
    "        print(f\"Reservation Status: {'Reserved' if self.is_reserved else 'Not Reserved'}\")"
   ]
  },
  {
   "cell_type": "code",
   "execution_count": 20,
   "id": "011ffa62",
   "metadata": {},
   "outputs": [],
   "source": [
    "ticket1 = Ticket(\"T12345\",\"Concert\",\"2023-08-15\",\"City ABC\",\"A12\",50.0,False)\n"
   ]
  },
  {
   "cell_type": "code",
   "execution_count": 21,
   "id": "d4c3d00b",
   "metadata": {},
   "outputs": [
    {
     "name": "stdout",
     "output_type": "stream",
     "text": [
      "Ticket ID: T12345\n",
      "Event Name: Concert\n",
      "Event Date: 2023-08-15\n",
      "Venue: City ABC\n",
      "Seat Number: A12\n",
      "Price: 50.0\n",
      "Reservation Status: Not Reserved\n"
     ]
    }
   ],
   "source": [
    "ticket1.display_ticket_info()"
   ]
  },
  {
   "cell_type": "code",
   "execution_count": 23,
   "id": "25fd8973",
   "metadata": {},
   "outputs": [],
   "source": [
    "ticket1.reserve_ticket()"
   ]
  },
  {
   "cell_type": "code",
   "execution_count": 24,
   "id": "f8d4c5d9",
   "metadata": {},
   "outputs": [
    {
     "name": "stdout",
     "output_type": "stream",
     "text": [
      "Ticket ID: T12345\n",
      "Event Name: Concert\n",
      "Event Date: 2023-08-15\n",
      "Venue: City ABC\n",
      "Seat Number: A12\n",
      "Price: 50.0\n",
      "Reservation Status: Reserved\n"
     ]
    }
   ],
   "source": [
    "ticket1.display_ticket_info()"
   ]
  },
  {
   "cell_type": "code",
   "execution_count": 25,
   "id": "926b563e",
   "metadata": {},
   "outputs": [],
   "source": [
    "ticket1.cancel_reservation()"
   ]
  },
  {
   "cell_type": "code",
   "execution_count": 26,
   "id": "91c0de57",
   "metadata": {},
   "outputs": [
    {
     "name": "stdout",
     "output_type": "stream",
     "text": [
      "Ticket ID: T12345\n",
      "Event Name: Concert\n",
      "Event Date: 2023-08-15\n",
      "Venue: City ABC\n",
      "Seat Number: A12\n",
      "Price: 50.0\n",
      "Reservation Status: Not Reserved\n"
     ]
    }
   ],
   "source": [
    "ticket1.display_ticket_info()"
   ]
  },
  {
   "cell_type": "markdown",
   "id": "bac72c3a",
   "metadata": {},
   "source": [
    "# 9. You are creating a shopping cart for an e-commerce website. Using OOP to model the \"ShoppingCart\" functionality the class should contain following attributes and methods: \n",
    "a. items: Represents the list of items in the shopping cart. \n",
    "The class also includes the following methods:\n",
    "a. add_item(self, item): Adds an item to the shopping cart by appending it to the list of items. \n",
    "b. remove_item(self, item): Removes an item from the shopping cart if it exists in the list. \n",
    "c. view_cart(self): Displays the items currently present in the shopping cart. \n",
    "d. clear_cart(self): Clears all items from the shopping cart by reassigning an \n",
    "empty list to the items attribute. \n"
   ]
  },
  {
   "cell_type": "code",
   "execution_count": 27,
   "id": "63950c54",
   "metadata": {},
   "outputs": [],
   "source": [
    "class ShoppingCart:\n",
    "    def __init__(self):\n",
    "        self.items = []\n",
    "\n",
    "    def add_item(self, item):\n",
    "        self.items.append(item)\n",
    "\n",
    "    def remove_item(self, item):\n",
    "        if item in self.items:\n",
    "            self.items.remove(item)\n",
    "\n",
    "    def view_cart(self):\n",
    "        print(\"Items in the shopping cart:\")\n",
    "        for item in self.items:\n",
    "            print(item)\n",
    "\n",
    "    def clear_cart(self):\n",
    "        self.items = []\n"
   ]
  },
  {
   "cell_type": "code",
   "execution_count": 28,
   "id": "fefc3d5d",
   "metadata": {},
   "outputs": [],
   "source": [
    "cart=ShoppingCart()"
   ]
  },
  {
   "cell_type": "code",
   "execution_count": 29,
   "id": "d47ab4ba",
   "metadata": {},
   "outputs": [],
   "source": [
    "cart.add_item(\"123\")"
   ]
  },
  {
   "cell_type": "code",
   "execution_count": 30,
   "id": "1c32ec04",
   "metadata": {},
   "outputs": [
    {
     "name": "stdout",
     "output_type": "stream",
     "text": [
      "Items in the shopping cart:\n",
      "123\n"
     ]
    }
   ],
   "source": [
    "cart.view_cart()"
   ]
  },
  {
   "cell_type": "code",
   "execution_count": 31,
   "id": "265de678",
   "metadata": {},
   "outputs": [],
   "source": [
    "cart.add_item(\"abc\")"
   ]
  },
  {
   "cell_type": "code",
   "execution_count": 32,
   "id": "01b18530",
   "metadata": {},
   "outputs": [
    {
     "name": "stdout",
     "output_type": "stream",
     "text": [
      "Items in the shopping cart:\n",
      "123\n",
      "abc\n"
     ]
    }
   ],
   "source": [
    "cart.view_cart()"
   ]
  },
  {
   "cell_type": "code",
   "execution_count": 33,
   "id": "5ecbbef5",
   "metadata": {},
   "outputs": [],
   "source": [
    "cart.remove_item(\"abc\")"
   ]
  },
  {
   "cell_type": "code",
   "execution_count": 34,
   "id": "6f265306",
   "metadata": {},
   "outputs": [
    {
     "name": "stdout",
     "output_type": "stream",
     "text": [
      "Items in the shopping cart:\n",
      "123\n"
     ]
    }
   ],
   "source": [
    "cart.view_cart()"
   ]
  },
  {
   "cell_type": "code",
   "execution_count": 35,
   "id": "a14b92cd",
   "metadata": {},
   "outputs": [],
   "source": [
    "cart.clear_cart()"
   ]
  },
  {
   "cell_type": "code",
   "execution_count": 36,
   "id": "4209b216",
   "metadata": {},
   "outputs": [
    {
     "name": "stdout",
     "output_type": "stream",
     "text": [
      "Items in the shopping cart:\n"
     ]
    }
   ],
   "source": [
    "cart.view_cart()"
   ]
  },
  {
   "cell_type": "markdown",
   "id": "a4121b46",
   "metadata": {},
   "source": [
    "# 10. Imagine a school management system. You have to design the \"Student\" class using OOP concepts.The “Student” class has the following attributes: \n",
    "a. name: Represents the name of the student. \n",
    "b. age: Represents the age of the student. \n",
    "c. grade: Represents the grade or class of the student. \n",
    "d. student_id: Represents the unique identifier for the student. \n",
    "e. attendance: Represents the attendance record of the student. \n",
    "The class should also include the following methods: \n",
    "a. update_attendance(self, date, status): Updates the attendance record of the \n",
    "student for a given date with the provided status (e.g., present or absent). \n",
    "b. get_attendance(self): Returns the attendance record of the student. \n",
    "c. get_average_attendance(self): Calculates and returns the average \n",
    "attendance percentage of the student based on their attendance record. "
   ]
  },
  {
   "cell_type": "code",
   "execution_count": 37,
   "id": "b2d31167",
   "metadata": {},
   "outputs": [],
   "source": [
    "class Student:\n",
    "    def __init__(self, name, age, grade, student_id):\n",
    "        self.name = name\n",
    "        self.age = age\n",
    "        self.grade = grade\n",
    "        self.student_id = student_id\n",
    "        self.attendance = {}\n",
    "\n",
    "    def update_attendance(self, date, status):\n",
    "        self.attendance[date] = status\n",
    "\n",
    "    def get_attendance(self):\n",
    "        return self.attendance\n",
    "\n",
    "    def get_average_attendance(self):\n",
    "        if not self.attendance:\n",
    "            return 0\n",
    "\n",
    "        total_days = len(self.attendance)\n",
    "        present_days = list(self.attendance.values()).count(\"present\")\n",
    "        average_attendance = (present_days / total_days) * 100\n",
    "        return average_attendance\n"
   ]
  },
  {
   "cell_type": "code",
   "execution_count": 38,
   "id": "608c76f0",
   "metadata": {},
   "outputs": [],
   "source": [
    "student1 = Student(\"John Doe\", 16, \"10th\", \"S12345\")"
   ]
  },
  {
   "cell_type": "code",
   "execution_count": 40,
   "id": "2652ba62",
   "metadata": {},
   "outputs": [],
   "source": [
    "student1.update_attendance(\"2023-08-01\", \"present\")\n",
    "student1.update_attendance(\"2023-08-02\", \"absent\")\n",
    "student1.update_attendance(\"2023-08-03\", \"present\")"
   ]
  },
  {
   "cell_type": "code",
   "execution_count": 41,
   "id": "567f769f",
   "metadata": {},
   "outputs": [
    {
     "name": "stdout",
     "output_type": "stream",
     "text": [
      "{'2023-08-01': 'present', '2023-08-02': 'absent', '2023-08-03': 'present'}\n"
     ]
    }
   ],
   "source": [
    "attendance_record = student1.get_attendance()\n",
    "print(attendance_record)"
   ]
  },
  {
   "cell_type": "code",
   "execution_count": 42,
   "id": "216ae540",
   "metadata": {},
   "outputs": [
    {
     "name": "stdout",
     "output_type": "stream",
     "text": [
      "66.66666666666666\n"
     ]
    }
   ],
   "source": [
    "average_attendance = student1.get_average_attendance()\n",
    "print(average_attendance)"
   ]
  }
 ],
 "metadata": {
  "kernelspec": {
   "display_name": "Python 3 (ipykernel)",
   "language": "python",
   "name": "python3"
  },
  "language_info": {
   "codemirror_mode": {
    "name": "ipython",
    "version": 3
   },
   "file_extension": ".py",
   "mimetype": "text/x-python",
   "name": "python",
   "nbconvert_exporter": "python",
   "pygments_lexer": "ipython3",
   "version": "3.10.9"
  }
 },
 "nbformat": 4,
 "nbformat_minor": 5
}
