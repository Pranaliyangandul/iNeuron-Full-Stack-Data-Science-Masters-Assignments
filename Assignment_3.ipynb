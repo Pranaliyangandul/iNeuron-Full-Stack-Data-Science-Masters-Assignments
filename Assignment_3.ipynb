{
 "cells": [
  {
   "cell_type": "markdown",
   "id": "e7c3c1c5",
   "metadata": {},
   "source": [
    "# 1. Why are functions advantageous to have in your programs?"
   ]
  },
  {
   "cell_type": "raw",
   "id": "6249a760",
   "metadata": {},
   "source": [
    "Functions are advantageous in programs for several reasons:\n",
    "\n",
    "Modularity: Functions allow you to break down the code into manageable and reusable blocks.\n",
    "\n",
    "Reusability: Once a function is defined, it can be called multiple times, promoting code reuse.\n",
    "\n",
    "Readability: Functions make the code more readable and understandable by providing a clear structure.\n",
    "\n",
    "Debugging: Functions simplify debugging since you can focus on a specific part of the code.\n",
    "\n",
    "Abstraction: Functions abstract away complex implementations, providing a simpler interface."
   ]
  },
  {
   "cell_type": "markdown",
   "id": "bbf529b8",
   "metadata": {},
   "source": [
    "# 2. When does the code in a function run: when it&#39;s specified or when it&#39;s called?"
   ]
  },
  {
   "cell_type": "raw",
   "id": "0865a9be",
   "metadata": {},
   "source": [
    "The code in a function runs when the function is called, \n",
    "not when it's specified or defined. Defining a function merely creates a reusable code block.\n",
    "Calling the function executes the code inside the function.\n",
    "\n"
   ]
  },
  {
   "cell_type": "markdown",
   "id": "51cf22c1",
   "metadata": {},
   "source": [
    "# 3. What statement creates a function?"
   ]
  },
  {
   "cell_type": "raw",
   "id": "19851f76",
   "metadata": {},
   "source": [
    "The def statement is used to create a function in Python. Here's the basic syntax:"
   ]
  },
  {
   "cell_type": "code",
   "execution_count": 1,
   "id": "e9af87eb",
   "metadata": {},
   "outputs": [],
   "source": [
    "def function_name(parameters):\n",
    "    # code block\n",
    "    # ...\n",
    "    return result  # optional return statement\n"
   ]
  },
  {
   "cell_type": "markdown",
   "id": "1111be13",
   "metadata": {},
   "source": [
    "# 4. What is the difference between a function and a function call?"
   ]
  },
  {
   "cell_type": "raw",
   "id": "62b91cc0",
   "metadata": {},
   "source": [
    "Function: A function is a block of code that performs a specific task. It's defined using the def keyword.\n",
    "\n",
    "Function Call: A function call is the code used to invoke (execute) a function. \n",
    "               It includes the function name followed by parentheses containing any required arguments."
   ]
  },
  {
   "cell_type": "code",
   "execution_count": 2,
   "id": "eda60b13",
   "metadata": {},
   "outputs": [
    {
     "name": "stdout",
     "output_type": "stream",
     "text": [
      "Hello, Alice!\n"
     ]
    }
   ],
   "source": [
    "def greet(name):\n",
    "    print(\"Hello, \" + name + \"!\")\n",
    "\n",
    "greet(\"Alice\")  # Function call; prints: Hello, Alice!\n"
   ]
  },
  {
   "cell_type": "markdown",
   "id": "372c6aa7",
   "metadata": {},
   "source": [
    "# 5. How many global scopes are there in a Python program? How many local scopes?"
   ]
  },
  {
   "cell_type": "raw",
   "id": "d333538a",
   "metadata": {},
   "source": [
    "Global Scopes: There is one global scope in a Python program. Variables declared outside any function are in the global scope.\n",
    "\n",
    "Local Scopes: There can be multiple local scopes. Each function call creates a new local scope."
   ]
  },
  {
   "cell_type": "markdown",
   "id": "93e0d82c",
   "metadata": {},
   "source": [
    "# 6. What happens to variables in a local scope when the function call returns?"
   ]
  },
  {
   "cell_type": "raw",
   "id": "249e1722",
   "metadata": {},
   "source": [
    "Variables in a local scope are destroyed (or, more technically, they go out of scope) when the function call returns. Their values are not accessible outside the function."
   ]
  },
  {
   "cell_type": "markdown",
   "id": "6f0d8c5b",
   "metadata": {},
   "source": [
    "# 7. What is the concept of a return value? Is it possible to have a return value in an expression?"
   ]
  },
  {
   "cell_type": "raw",
   "id": "ebe3d60f",
   "metadata": {},
   "source": [
    "Return Value: A return value is the value that a function call evaluates to. It is returned by the return statement in a function.\n",
    "\n",
    "Return Value in an Expression: Yes, a function's return value can be part of an expression. It can be used directly in assignments or other expressions."
   ]
  },
  {
   "cell_type": "code",
   "execution_count": 4,
   "id": "6e3b450c",
   "metadata": {},
   "outputs": [
    {
     "name": "stdout",
     "output_type": "stream",
     "text": [
      "8\n"
     ]
    }
   ],
   "source": [
    "def add(a, b):\n",
    "    return a + b\n",
    "\n",
    "result = add(3, 5)  # The return value (8) is used in an expression\n",
    "print(result)  # Output: 8\n"
   ]
  },
  {
   "cell_type": "markdown",
   "id": "b5f4081b",
   "metadata": {},
   "source": [
    "# 8. If a function does not have a return statement, what is the return value of a call to that function?"
   ]
  },
  {
   "cell_type": "raw",
   "id": "a0184326",
   "metadata": {},
   "source": [
    "If a function does not have a return statement, it implicitly returns None. None is a special Python object representing the absence of a value."
   ]
  },
  {
   "cell_type": "code",
   "execution_count": 5,
   "id": "afc1d32f",
   "metadata": {},
   "outputs": [
    {
     "name": "stdout",
     "output_type": "stream",
     "text": [
      "Hello\n",
      "None\n"
     ]
    }
   ],
   "source": [
    "def my_function():\n",
    "    print(\"Hello\")\n",
    "\n",
    "result = my_function()  # Output: Hello\n",
    "print(result)  # Output: None\n"
   ]
  },
  {
   "cell_type": "markdown",
   "id": "9869be41",
   "metadata": {},
   "source": [
    "# 9. How do you make a function variable refer to the global variable?"
   ]
  },
  {
   "cell_type": "raw",
   "id": "3f3f095f",
   "metadata": {},
   "source": [
    "To refer to a global variable inside a function, you can use the global keyword before the variable name inside the function.\n"
   ]
  },
  {
   "cell_type": "code",
   "execution_count": 6,
   "id": "a3b32c28",
   "metadata": {},
   "outputs": [
    {
     "name": "stdout",
     "output_type": "stream",
     "text": [
      "10\n"
     ]
    }
   ],
   "source": [
    "global_var = 10\n",
    "\n",
    "def func():\n",
    "    global global_var\n",
    "    print(global_var)\n",
    "\n",
    "func()  # Output: 10\n"
   ]
  },
  {
   "cell_type": "code",
   "execution_count": null,
   "id": "109d460f",
   "metadata": {},
   "outputs": [],
   "source": [
    "10. What is the data type of None?"
   ]
  },
  {
   "cell_type": "code",
   "execution_count": null,
   "id": "24977ceb",
   "metadata": {},
   "outputs": [],
   "source": [
    "The data type of None is NoneType.\n",
    "\n"
   ]
  },
  {
   "cell_type": "code",
   "execution_count": 7,
   "id": "969b5e44",
   "metadata": {},
   "outputs": [
    {
     "data": {
      "text/plain": [
       "NoneType"
      ]
     },
     "execution_count": 7,
     "metadata": {},
     "output_type": "execute_result"
    }
   ],
   "source": [
    "type(None)"
   ]
  },
  {
   "cell_type": "markdown",
   "id": "997ead0d",
   "metadata": {},
   "source": [
    "# 11. What does the sentence import areallyourpetsnamederic do?"
   ]
  },
  {
   "cell_type": "raw",
   "id": "5b2a890e",
   "metadata": {},
   "source": [
    "This statement attempts to import a module named areallyourpetsnamederic. If the module exists, it can be used in the program. If not, it raises an ImportError.\n",
    "\n"
   ]
  },
  {
   "cell_type": "code",
   "execution_count": null,
   "id": "fdc690f0",
   "metadata": {},
   "outputs": [],
   "source": [
    "import areallyourpetsnamederic"
   ]
  },
  {
   "cell_type": "markdown",
   "id": "bc7b0144",
   "metadata": {},
   "source": [
    "# 12. If you had a bacon() feature in a spam module, what would you call it after importing spam?"
   ]
  },
  {
   "cell_type": "raw",
   "id": "17180f79",
   "metadata": {},
   "source": [
    "If there's a bacon() function in the spam module, you would call it using the module name and the function name like this:\n",
    "\n"
   ]
  },
  {
   "cell_type": "code",
   "execution_count": 8,
   "id": "8510ee42",
   "metadata": {},
   "outputs": [
    {
     "ename": "ModuleNotFoundError",
     "evalue": "No module named 'spam'",
     "output_type": "error",
     "traceback": [
      "\u001b[1;31m---------------------------------------------------------------------------\u001b[0m",
      "\u001b[1;31mModuleNotFoundError\u001b[0m                       Traceback (most recent call last)",
      "Cell \u001b[1;32mIn[8], line 1\u001b[0m\n\u001b[1;32m----> 1\u001b[0m \u001b[38;5;28;01mimport\u001b[39;00m \u001b[38;5;21;01mspam\u001b[39;00m\n\u001b[0;32m      3\u001b[0m spam\u001b[38;5;241m.\u001b[39mbacon()\n",
      "\u001b[1;31mModuleNotFoundError\u001b[0m: No module named 'spam'"
     ]
    }
   ],
   "source": [
    "import spam\n",
    "\n",
    "spam.bacon()  # Calls the bacon() function from the spam module\n"
   ]
  },
  {
   "cell_type": "markdown",
   "id": "32c72167",
   "metadata": {},
   "source": [
    "# 13. What can you do to save a programme from crashing if it encounters an error?"
   ]
  },
  {
   "cell_type": "raw",
   "id": "9e594c50",
   "metadata": {},
   "source": [
    "You can use exception handling with try, except, finally, and raise statements to handle errors and prevent the program from crashing. This allows you to gracefully handle unexpected situations.\n",
    "\n"
   ]
  },
  {
   "cell_type": "code",
   "execution_count": 9,
   "id": "88a82f0d",
   "metadata": {},
   "outputs": [
    {
     "name": "stdout",
     "output_type": "stream",
     "text": [
      "Error: Division by zero!\n",
      "This will always execute.\n"
     ]
    }
   ],
   "source": [
    "try:\n",
    "    # Code that might cause an error\n",
    "    result = 10 / 0\n",
    "except ZeroDivisionError:\n",
    "    print(\"Error: Division by zero!\")\n",
    "else:\n",
    "    print(\"No error occurred.\")\n",
    "finally:\n",
    "    print(\"This will always execute.\")\n"
   ]
  },
  {
   "cell_type": "markdown",
   "id": "a7c45ef0",
   "metadata": {},
   "source": [
    "# 14. What is the purpose of the try clause? What is the purpose of the except clause?"
   ]
  },
  {
   "cell_type": "raw",
   "id": "35a64601",
   "metadata": {},
   "source": [
    "try Clause: It encloses the code that might raise an exception. If an exception occurs within the try block, the code in the corresponding except block is executed.\n",
    "\n",
    "except Clause: It catches and handles specific exceptions. If the specified exception occurs in the try block, the code inside the corresponding except block is executed."
   ]
  },
  {
   "cell_type": "code",
   "execution_count": 10,
   "id": "a56506d6",
   "metadata": {},
   "outputs": [
    {
     "name": "stdout",
     "output_type": "stream",
     "text": [
      "Enter a number: 0\n",
      "Error: Division by zero is not allowed.\n",
      "This will always execute, regardless of errors.\n"
     ]
    }
   ],
   "source": [
    "try:\n",
    "    num = int(input(\"Enter a number: \"))\n",
    "    result = 10 / num\n",
    "except ZeroDivisionError:\n",
    "    print(\"Error: Division by zero is not allowed.\")\n",
    "except ValueError:\n",
    "    print(\"Error: Invalid input. Please enter a valid number.\")\n",
    "else:\n",
    "    print(\"Division result:\", result)\n",
    "finally:\n",
    "    print(\"This will always execute, regardless of errors.\")\n"
   ]
  },
  {
   "cell_type": "raw",
   "id": "03488113",
   "metadata": {},
   "source": [
    "The try block attempts to perform a division operation. If the user enters 0, a ZeroDivisionError occurs.\n",
    "The except ZeroDivisionError block catches this specific error and prints an error message.\n",
    "If the user enters a non-numeric value (like a string), a ValueError occurs.\n",
    "The except ValueError block catches this specific error and prints an error message.\n",
    "If no error occurs, the else block prints the division result.\n",
    "The finally block always executes, regardless of whether an error occurred or not."
   ]
  }
 ],
 "metadata": {
  "kernelspec": {
   "display_name": "Python 3 (ipykernel)",
   "language": "python",
   "name": "python3"
  },
  "language_info": {
   "codemirror_mode": {
    "name": "ipython",
    "version": 3
   },
   "file_extension": ".py",
   "mimetype": "text/x-python",
   "name": "python",
   "nbconvert_exporter": "python",
   "pygments_lexer": "ipython3",
   "version": "3.10.9"
  }
 },
 "nbformat": 4,
 "nbformat_minor": 5
}
